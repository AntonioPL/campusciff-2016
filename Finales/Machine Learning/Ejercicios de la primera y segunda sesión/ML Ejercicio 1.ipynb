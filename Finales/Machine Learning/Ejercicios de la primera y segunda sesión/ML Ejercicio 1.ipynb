{
 "cells": [
  {
   "cell_type": "markdown",
   "metadata": {},
   "source": [
    "# Ejercicios Aprendizaje Automático"
   ]
  },
  {
   "cell_type": "markdown",
   "metadata": {
    "collapsed": true
   },
   "source": [
    "### 1. Reglas de asociación\n",
    "En el “groceries.csv” contiene las transacciones recogidas durante un mes en una tienda de\n",
    "comestibles. En cada una de las filas de este archivo se encuentran los artículos comprados de\n",
    "forma conjunta por los diferentes clientes. Obtener las lista de artículos que tiene un soporte\n",
    "mínimo de 0,15. Obtener también las reglas de asociación que se pueden deducir de este\n",
    "conjunto de datos con un soporte mínimo de 0,05 y confianza de 0,25.\n",
    "\n",
    "La importación del archivo se puede realizar utilizando el siguiente código:\n",
    "\n",
    "    import csv\n",
    "    groceries = []\n",
    "    groceries_file = csv.reader(open(\"groceries.csv\", \"rb\"))\n",
    "    for row in groceries_file:\n",
    "        groceries.append(row)\n"
   ]
  },
  {
   "cell_type": "code",
   "execution_count": 1,
   "metadata": {
    "collapsed": false
   },
   "outputs": [],
   "source": [
    "import csv\n",
    "import apriori\n",
    "import pandas as pd\n",
    "from sklearn.linear_model import LinearRegression\n",
    "from sklearn.cross_validation import train_test_split\n",
    "import numpy\n",
    "from numpy import array\n",
    "from numpy import unique\n",
    "import math\n",
    "from math import *\n",
    "import matplotlib.pyplot as plt"
   ]
  },
  {
   "cell_type": "code",
   "execution_count": 2,
   "metadata": {
    "collapsed": false
   },
   "outputs": [
    {
     "data": {
      "text/plain": [
       "[['citrus fruit', 'semi-finished bread', 'margarine', 'ready soups'],\n",
       " ['tropical fruit', 'yogurt', 'coffee'],\n",
       " ['whole milk'],\n",
       " ['pip fruit', 'yogurt', 'cream cheese ', 'meat spreads'],\n",
       " ['other vegetables',\n",
       "  'whole milk',\n",
       "  'condensed milk',\n",
       "  'long life bakery product'],\n",
       " ['whole milk', 'butter', 'yogurt', 'rice', 'abrasive cleaner'],\n",
       " ['rolls/buns'],\n",
       " ['other vegetables',\n",
       "  'UHT-milk',\n",
       "  'rolls/buns',\n",
       "  'bottled beer',\n",
       "  'liquor (appetizer)'],\n",
       " ['pot plants'],\n",
       " ['whole milk', 'cereals']]"
      ]
     },
     "execution_count": 2,
     "metadata": {},
     "output_type": "execute_result"
    }
   ],
   "source": [
    "groceries = []\n",
    "groceries_file = csv.reader(open(\"groceries.csv\", \"rb\"))\n",
    "for row in groceries_file:\n",
    "    groceries.append(row)\n",
    "    \n",
    "groceries[:10]"
   ]
  },
  {
   "cell_type": "markdown",
   "metadata": {},
   "source": [
    "### Obtener las lista de artículos que tiene un soporte mínimo de 0,15\n",
    "\n",
    "Mostraremos los articulos que tienen una frecuencia de soporte minimo del 15%, es decir aparecen en el 15% de las listas."
   ]
  },
  {
   "cell_type": "code",
   "execution_count": 3,
   "metadata": {
    "collapsed": false
   },
   "outputs": [
    {
     "name": "stdout",
     "output_type": "stream",
     "text": [
      "{soda}:  sup = 0.174\n",
      "{whole milk}:  sup = 0.256\n",
      "{other vegetables}:  sup = 0.193\n",
      "{rolls/buns}:  sup = 0.184\n"
     ]
    }
   ],
   "source": [
    "F, soporte = apriori.apriori(groceries, min_support=0.15, verbose=True)"
   ]
  },
  {
   "cell_type": "markdown",
   "metadata": {},
   "source": [
    "### Obtener también las reglas de asociación que se pueden deducir de este conjunto de datos con un soporte mínimo de 0,05 y confianza de 0,25.\n",
    "\n",
    "Al bajar el minimo de soporte, la lista se amplia y el resultado es mayor"
   ]
  },
  {
   "cell_type": "code",
   "execution_count": 4,
   "metadata": {
    "collapsed": false
   },
   "outputs": [
    {
     "name": "stdout",
     "output_type": "stream",
     "text": [
      "{citrus fruit}:  sup = 0.083\n",
      "{curd}:  sup = 0.053\n",
      "{root vegetables}:  sup = 0.109\n",
      "{shopping bags}:  sup = 0.099\n",
      "{bottled beer}:  sup = 0.081\n",
      "{butter}:  sup = 0.055\n",
      "{newspapers}:  sup = 0.08\n",
      "{napkins}:  sup = 0.052\n",
      "{pip fruit}:  sup = 0.076\n",
      "{domestic eggs}:  sup = 0.063\n",
      "{bottled water}:  sup = 0.111\n",
      "{tropical fruit}:  sup = 0.105\n",
      "{soda}:  sup = 0.174\n",
      "{whole milk}:  sup = 0.256\n",
      "{other vegetables}:  sup = 0.193\n",
      "{canned beer}:  sup = 0.078\n",
      "{frankfurter}:  sup = 0.059\n",
      "{sausage}:  sup = 0.094\n",
      "{yogurt}:  sup = 0.14\n",
      "{pastry}:  sup = 0.089\n",
      "{margarine}:  sup = 0.059\n",
      "{coffee}:  sup = 0.058\n",
      "{brown bread}:  sup = 0.065\n",
      "{fruit/vegetable juice}:  sup = 0.072\n",
      "{whipped/sour cream}:  sup = 0.072\n",
      "{pork}:  sup = 0.058\n",
      "{rolls/buns}:  sup = 0.184\n",
      "{beef}:  sup = 0.052\n",
      "{whole milk, yogurt}:  sup = 0.056\n",
      "{whole milk, rolls/buns}:  sup = 0.057\n",
      "{whole milk, other vegetables}:  sup = 0.075\n"
     ]
    }
   ],
   "source": [
    "F, soporte = apriori.apriori(groceries, min_support=0.05, verbose=True)"
   ]
  },
  {
   "cell_type": "markdown",
   "metadata": {},
   "source": [
    "A partir de los articulos frecuentes, le especificamos la confianza  minima"
   ]
  },
  {
   "cell_type": "code",
   "execution_count": 5,
   "metadata": {
    "collapsed": false
   },
   "outputs": [
    {
     "name": "stdout",
     "output_type": "stream",
     "text": [
      "{yogurt} ---> {whole milk}:  conf = 0.402, sup = 0.056\n",
      "{rolls/buns} ---> {whole milk}:  conf = 0.308, sup = 0.057\n",
      "{other vegetables} ---> {whole milk}:  conf = 0.387, sup = 0.075\n",
      "{whole milk} ---> {other vegetables}:  conf = 0.293, sup = 0.075\n"
     ]
    }
   ],
   "source": [
    "H = apriori.generate_rules(F, soporte, min_confidence=0.25, verbose=True)"
   ]
  },
  {
   "cell_type": "markdown",
   "metadata": {
    "collapsed": true
   },
   "source": [
    "** Con los parametros de Soporte de 5% y confianza de 25% el resultado es:**\n",
    "\n",
    "Que el 40% de las veces que se compra yogurt tambien se compra Whole milk..</p>\n",
    "**{yogurt} ---> {whole milk}:  conf = 0.402, sup = 0.056**\n",
    "\n",
    "EL 30% de veces que se compra rolls/buns se compra Whoe milk..</p>\n",
    "**{rolls/buns} ---> {whole milk}:  conf = 0.308, sup = 0.057**\n",
    "\n",
    "El 38% de veces que de compran \"other vegetables\" tambien se compra whole milk</p>\n",
    "**{other vegetables} ---> {whole milk}:  conf = 0.387, sup = 0.075**\n",
    "\n",
    "El 29% de veces que de compra while milk tambien se compran \"other vegetables\"</p>\n",
    "**{whole milk} ---> {other vegetables}:  conf = 0.293, sup = 0.075**\n",
    "\n"
   ]
  },
  {
   "cell_type": "markdown",
   "metadata": {},
   "source": [
    "# 2. Implementación de una regresión “stepwise” con eliminación hacia atrás.\n",
    "\n",
    "Utilizando como referencia el código del algoritmo “stepwise” con selección hacia adelante\n",
    "(Fordward Stepwise Regression) que se encuentra en el archivo “CIF005_02_06_Stepwise.ipynb”\n",
    "realizar una implementación del del algoritmo con eliminación hacia atrás (Backward Stepwise\n",
    "Regression). En este caso la selección de las variables se realiza empezando con un modelo que\n",
    "utiliza todas la variables disponibles para ir eliminando en cada paso la produce el modelo menos\n",
    "significativo."
   ]
  },
  {
   "cell_type": "code",
   "execution_count": 6,
   "metadata": {
    "collapsed": false
   },
   "outputs": [
    {
     "data": {
      "text/html": [
       "<div>\n",
       "<table border=\"1\" class=\"dataframe\">\n",
       "  <thead>\n",
       "    <tr style=\"text-align: right;\">\n",
       "      <th></th>\n",
       "      <th>fixed acidity</th>\n",
       "      <th>volatile acidity</th>\n",
       "      <th>citric acid</th>\n",
       "      <th>residual sugar</th>\n",
       "      <th>chlorides</th>\n",
       "      <th>free sulfur dioxide</th>\n",
       "      <th>total sulfur dioxide</th>\n",
       "      <th>density</th>\n",
       "      <th>pH</th>\n",
       "      <th>sulphates</th>\n",
       "      <th>alcohol</th>\n",
       "      <th>quality</th>\n",
       "    </tr>\n",
       "  </thead>\n",
       "  <tbody>\n",
       "    <tr>\n",
       "      <th>count</th>\n",
       "      <td>4898.000000</td>\n",
       "      <td>4898.000000</td>\n",
       "      <td>4898.000000</td>\n",
       "      <td>4898.000000</td>\n",
       "      <td>4898.000000</td>\n",
       "      <td>4898.000000</td>\n",
       "      <td>4898.000000</td>\n",
       "      <td>4898.000000</td>\n",
       "      <td>4898.000000</td>\n",
       "      <td>4898.000000</td>\n",
       "      <td>4898.000000</td>\n",
       "      <td>4898.000000</td>\n",
       "    </tr>\n",
       "    <tr>\n",
       "      <th>mean</th>\n",
       "      <td>6.854788</td>\n",
       "      <td>0.278241</td>\n",
       "      <td>0.334192</td>\n",
       "      <td>6.391415</td>\n",
       "      <td>0.045772</td>\n",
       "      <td>35.308085</td>\n",
       "      <td>138.360657</td>\n",
       "      <td>0.994027</td>\n",
       "      <td>3.188267</td>\n",
       "      <td>0.489847</td>\n",
       "      <td>10.514267</td>\n",
       "      <td>5.877909</td>\n",
       "    </tr>\n",
       "    <tr>\n",
       "      <th>std</th>\n",
       "      <td>0.843868</td>\n",
       "      <td>0.100795</td>\n",
       "      <td>0.121020</td>\n",
       "      <td>5.072058</td>\n",
       "      <td>0.021848</td>\n",
       "      <td>17.007137</td>\n",
       "      <td>42.498065</td>\n",
       "      <td>0.002991</td>\n",
       "      <td>0.151001</td>\n",
       "      <td>0.114126</td>\n",
       "      <td>1.230621</td>\n",
       "      <td>0.885639</td>\n",
       "    </tr>\n",
       "    <tr>\n",
       "      <th>min</th>\n",
       "      <td>3.800000</td>\n",
       "      <td>0.080000</td>\n",
       "      <td>0.000000</td>\n",
       "      <td>0.600000</td>\n",
       "      <td>0.009000</td>\n",
       "      <td>2.000000</td>\n",
       "      <td>9.000000</td>\n",
       "      <td>0.987110</td>\n",
       "      <td>2.720000</td>\n",
       "      <td>0.220000</td>\n",
       "      <td>8.000000</td>\n",
       "      <td>3.000000</td>\n",
       "    </tr>\n",
       "    <tr>\n",
       "      <th>25%</th>\n",
       "      <td>6.300000</td>\n",
       "      <td>0.210000</td>\n",
       "      <td>0.270000</td>\n",
       "      <td>1.700000</td>\n",
       "      <td>0.036000</td>\n",
       "      <td>23.000000</td>\n",
       "      <td>108.000000</td>\n",
       "      <td>0.991723</td>\n",
       "      <td>3.090000</td>\n",
       "      <td>0.410000</td>\n",
       "      <td>9.500000</td>\n",
       "      <td>5.000000</td>\n",
       "    </tr>\n",
       "    <tr>\n",
       "      <th>50%</th>\n",
       "      <td>6.800000</td>\n",
       "      <td>0.260000</td>\n",
       "      <td>0.320000</td>\n",
       "      <td>5.200000</td>\n",
       "      <td>0.043000</td>\n",
       "      <td>34.000000</td>\n",
       "      <td>134.000000</td>\n",
       "      <td>0.993740</td>\n",
       "      <td>3.180000</td>\n",
       "      <td>0.470000</td>\n",
       "      <td>10.400000</td>\n",
       "      <td>6.000000</td>\n",
       "    </tr>\n",
       "    <tr>\n",
       "      <th>75%</th>\n",
       "      <td>7.300000</td>\n",
       "      <td>0.320000</td>\n",
       "      <td>0.390000</td>\n",
       "      <td>9.900000</td>\n",
       "      <td>0.050000</td>\n",
       "      <td>46.000000</td>\n",
       "      <td>167.000000</td>\n",
       "      <td>0.996100</td>\n",
       "      <td>3.280000</td>\n",
       "      <td>0.550000</td>\n",
       "      <td>11.400000</td>\n",
       "      <td>6.000000</td>\n",
       "    </tr>\n",
       "    <tr>\n",
       "      <th>max</th>\n",
       "      <td>14.200000</td>\n",
       "      <td>1.100000</td>\n",
       "      <td>1.660000</td>\n",
       "      <td>65.800000</td>\n",
       "      <td>0.346000</td>\n",
       "      <td>289.000000</td>\n",
       "      <td>440.000000</td>\n",
       "      <td>1.038980</td>\n",
       "      <td>3.820000</td>\n",
       "      <td>1.080000</td>\n",
       "      <td>14.200000</td>\n",
       "      <td>9.000000</td>\n",
       "    </tr>\n",
       "  </tbody>\n",
       "</table>\n",
       "</div>"
      ],
      "text/plain": [
       "       fixed acidity  volatile acidity  citric acid  residual sugar  \\\n",
       "count    4898.000000       4898.000000  4898.000000     4898.000000   \n",
       "mean        6.854788          0.278241     0.334192        6.391415   \n",
       "std         0.843868          0.100795     0.121020        5.072058   \n",
       "min         3.800000          0.080000     0.000000        0.600000   \n",
       "25%         6.300000          0.210000     0.270000        1.700000   \n",
       "50%         6.800000          0.260000     0.320000        5.200000   \n",
       "75%         7.300000          0.320000     0.390000        9.900000   \n",
       "max        14.200000          1.100000     1.660000       65.800000   \n",
       "\n",
       "         chlorides  free sulfur dioxide  total sulfur dioxide      density  \\\n",
       "count  4898.000000          4898.000000           4898.000000  4898.000000   \n",
       "mean      0.045772            35.308085            138.360657     0.994027   \n",
       "std       0.021848            17.007137             42.498065     0.002991   \n",
       "min       0.009000             2.000000              9.000000     0.987110   \n",
       "25%       0.036000            23.000000            108.000000     0.991723   \n",
       "50%       0.043000            34.000000            134.000000     0.993740   \n",
       "75%       0.050000            46.000000            167.000000     0.996100   \n",
       "max       0.346000           289.000000            440.000000     1.038980   \n",
       "\n",
       "                pH    sulphates      alcohol      quality  \n",
       "count  4898.000000  4898.000000  4898.000000  4898.000000  \n",
       "mean      3.188267     0.489847    10.514267     5.877909  \n",
       "std       0.151001     0.114126     1.230621     0.885639  \n",
       "min       2.720000     0.220000     8.000000     3.000000  \n",
       "25%       3.090000     0.410000     9.500000     5.000000  \n",
       "50%       3.180000     0.470000    10.400000     6.000000  \n",
       "75%       3.280000     0.550000    11.400000     6.000000  \n",
       "max       3.820000     1.080000    14.200000     9.000000  "
      ]
     },
     "execution_count": 6,
     "metadata": {},
     "output_type": "execute_result"
    }
   ],
   "source": [
    "wine = pd.read_csv('winequality-white.csv', sep = ';')\n",
    "wine.describe()"
   ]
  },
  {
   "cell_type": "markdown",
   "metadata": {},
   "source": [
    "## Preparación de los datos\n",
    "Se divide el conjunto de variables en uno de prueba y otra test. "
   ]
  },
  {
   "cell_type": "code",
   "execution_count": 7,
   "metadata": {
    "collapsed": true
   },
   "outputs": [],
   "source": [
    "from sklearn.linear_model import LinearRegression\n",
    "from sklearn.cross_validation import train_test_split\n",
    "\n",
    "# Separación de la variable objetivo y las explicativas\n",
    "target = 'quality'\n",
    "features = list(wine.columns)\n",
    "features.remove('quality')\n",
    "\n",
    "x = wine[features]\n",
    "y = wine[target]\n",
    "\n",
    "# Obtencion del conjunto de datos para validación\n",
    "x_train, x_test, y_train, y_test = train_test_split(x, y)"
   ]
  },
  {
   "cell_type": "code",
   "execution_count": 8,
   "metadata": {
    "collapsed": false
   },
   "outputs": [
    {
     "name": "stdout",
     "output_type": "stream",
     "text": [
      "En el paso 0 se ha eliminado la varible citric acid con un error 0.748952431769\n",
      "En el paso 1 se ha eliminado la varible fixed acidity con un error 0.748844539065\n",
      "En el paso 2 se ha eliminado la varible total sulfur dioxide con un error 0.748808240723\n",
      "En el paso 3 se ha eliminado la varible chlorides con un error 0.748819885017\n",
      "En el paso 4 se ha eliminado la varible free sulfur dioxide con un error 0.749937784547\n",
      "En el paso 5 se ha eliminado la varible pH con un error 0.752672490575\n",
      "En el paso 6 se ha eliminado la varible sulphates con un error 0.757481635799\n",
      "En el paso 7 se ha eliminado la varible density con un error 0.761166586028\n",
      "En el paso 8 se ha eliminado la varible residual sugar con un error 0.769361942282\n",
      "En el paso 9 se ha eliminado la varible volatile acidity con un error 0.780840030902\n"
     ]
    }
   ],
   "source": [
    "from sklearn.linear_model import LinearRegression\n",
    "import numpy\n",
    "import math\n",
    "\n",
    "# Modelo para realizar los ajustes\n",
    "model = LinearRegression()\n",
    "\n",
    "# Determinamos el tamano de todas las variables a eliminar \n",
    "feature_order = range(len(features))\n",
    "\n",
    "feature_error = []\n",
    "feature_range = []\n",
    "\n",
    "for i in range(len(features)-1):\n",
    "    idx_try = [val for val in range(len(features)) if val in feature_order]\n",
    "    iter_error = []\n",
    "\n",
    "    for i_try in idx_try:\n",
    "        useRow = feature_order[:]\n",
    "        useRow.remove(i_try)\n",
    "\n",
    "        use_train = x_train[x_train.columns[useRow]]\n",
    "        use_test = x_test[x_train.columns[useRow]]\n",
    "\n",
    "        model.fit(use_train, y_train)\n",
    "        rmsError = numpy.linalg.norm((y_test - model.predict(use_test)), 2)/math.sqrt(len(y_test))\n",
    "        iter_error.append(rmsError)\n",
    "\n",
    "    pos_best = numpy.argmin(iter_error)\n",
    "\n",
    "    # Eliminando variables 1 a 1\n",
    "    feature_order.remove(idx_try[pos_best])\n",
    "    feature_range.append(idx_try[pos_best])\n",
    "    feature_error.append(iter_error[pos_best])\n",
    "\n",
    "for i in range(len(features)-1):\n",
    "    print \"En el paso\", i, \"se ha eliminado la varible\", features[feature_range[i]], \"con un error\", feature_error[i]"
   ]
  },
  {
   "cell_type": "markdown",
   "metadata": {
    "collapsed": true
   },
   "source": [
    "# 3. Estimación de la supervivencia de los pasajeros del Titanic.\n",
    "Utilizando los datos del archivo “titanic.csv”, que contienen información del pasaje del Titanic, para\n",
    "la creación de un modelo que pueda predecir si un pasajero sobrevive al hundimiento del barco en\n",
    "el momento de embarque. Para esto se han de seleccionar la variables con mayor capacidad de\n",
    "predicción.\n",
    "\n",
    "Para la creación del modelo no se pueden utilizar las variables “boat” ni “body” ya que estas\n",
    "contienen información posterior al momento del embarque.\n",
    "\n",
    "En el conjunto de datos existes valores NaN en las columnas “age” y “fare”, para eliminar las filas\n",
    "con estos valores se puede utilizar el siguiente comando:\n",
    "\n",
    "    mask = titanic[['age', 'fare']].applymap(lambda x: math.isnan(x))</p>\n",
    "    titanic = titanic[-mask.any(axis = 1)]"
   ]
  },
  {
   "cell_type": "code",
   "execution_count": 9,
   "metadata": {
    "collapsed": false
   },
   "outputs": [
    {
     "data": {
      "text/plain": [
       "1309"
      ]
     },
     "execution_count": 9,
     "metadata": {},
     "output_type": "execute_result"
    }
   ],
   "source": [
    "import pandas as pd\n",
    "import numpy as np\n",
    "import math\n",
    "import matplotlib.pyplot as plt\n",
    "\n",
    "titanic = pd.read_csv(\"titanic.csv\")\n",
    "titanic.head(10)\n",
    "len(titanic.index)"
   ]
  },
  {
   "cell_type": "markdown",
   "metadata": {},
   "source": [
    "Eliminando valores NAN, eliminando columnas “boat” y “body"
   ]
  },
  {
   "cell_type": "code",
   "execution_count": 10,
   "metadata": {
    "collapsed": false
   },
   "outputs": [
    {
     "data": {
      "text/html": [
       "<div>\n",
       "<table border=\"1\" class=\"dataframe\">\n",
       "  <thead>\n",
       "    <tr style=\"text-align: right;\">\n",
       "      <th></th>\n",
       "      <th>pclass</th>\n",
       "      <th>survived</th>\n",
       "      <th>name</th>\n",
       "      <th>sex</th>\n",
       "      <th>age</th>\n",
       "      <th>sibsp</th>\n",
       "      <th>parch</th>\n",
       "      <th>ticket</th>\n",
       "      <th>fare</th>\n",
       "      <th>cabin</th>\n",
       "      <th>embarked</th>\n",
       "      <th>home.dest</th>\n",
       "    </tr>\n",
       "  </thead>\n",
       "  <tbody>\n",
       "    <tr>\n",
       "      <th>0</th>\n",
       "      <td>1</td>\n",
       "      <td>1</td>\n",
       "      <td>Allen, Miss. Elisabeth Walton</td>\n",
       "      <td>female</td>\n",
       "      <td>29.00</td>\n",
       "      <td>0</td>\n",
       "      <td>0</td>\n",
       "      <td>24160</td>\n",
       "      <td>211.3375</td>\n",
       "      <td>B5</td>\n",
       "      <td>S</td>\n",
       "      <td>St Louis, MO</td>\n",
       "    </tr>\n",
       "    <tr>\n",
       "      <th>1</th>\n",
       "      <td>1</td>\n",
       "      <td>1</td>\n",
       "      <td>Allison, Master. Hudson Trevor</td>\n",
       "      <td>male</td>\n",
       "      <td>0.92</td>\n",
       "      <td>1</td>\n",
       "      <td>2</td>\n",
       "      <td>113781</td>\n",
       "      <td>151.5500</td>\n",
       "      <td>C22 C26</td>\n",
       "      <td>S</td>\n",
       "      <td>Montreal, PQ / Chesterville, ON</td>\n",
       "    </tr>\n",
       "    <tr>\n",
       "      <th>2</th>\n",
       "      <td>1</td>\n",
       "      <td>0</td>\n",
       "      <td>Allison, Miss. Helen Loraine</td>\n",
       "      <td>female</td>\n",
       "      <td>2.00</td>\n",
       "      <td>1</td>\n",
       "      <td>2</td>\n",
       "      <td>113781</td>\n",
       "      <td>151.5500</td>\n",
       "      <td>C22 C26</td>\n",
       "      <td>S</td>\n",
       "      <td>Montreal, PQ / Chesterville, ON</td>\n",
       "    </tr>\n",
       "    <tr>\n",
       "      <th>3</th>\n",
       "      <td>1</td>\n",
       "      <td>0</td>\n",
       "      <td>Allison, Mr. Hudson Joshua Creighton</td>\n",
       "      <td>male</td>\n",
       "      <td>30.00</td>\n",
       "      <td>1</td>\n",
       "      <td>2</td>\n",
       "      <td>113781</td>\n",
       "      <td>151.5500</td>\n",
       "      <td>C22 C26</td>\n",
       "      <td>S</td>\n",
       "      <td>Montreal, PQ / Chesterville, ON</td>\n",
       "    </tr>\n",
       "    <tr>\n",
       "      <th>4</th>\n",
       "      <td>1</td>\n",
       "      <td>0</td>\n",
       "      <td>Allison, Mrs. Hudson J C (Bessie Waldo Daniels)</td>\n",
       "      <td>female</td>\n",
       "      <td>25.00</td>\n",
       "      <td>1</td>\n",
       "      <td>2</td>\n",
       "      <td>113781</td>\n",
       "      <td>151.5500</td>\n",
       "      <td>C22 C26</td>\n",
       "      <td>S</td>\n",
       "      <td>Montreal, PQ / Chesterville, ON</td>\n",
       "    </tr>\n",
       "  </tbody>\n",
       "</table>\n",
       "</div>"
      ],
      "text/plain": [
       "   pclass  survived                                             name     sex  \\\n",
       "0       1         1                    Allen, Miss. Elisabeth Walton  female   \n",
       "1       1         1                   Allison, Master. Hudson Trevor    male   \n",
       "2       1         0                     Allison, Miss. Helen Loraine  female   \n",
       "3       1         0             Allison, Mr. Hudson Joshua Creighton    male   \n",
       "4       1         0  Allison, Mrs. Hudson J C (Bessie Waldo Daniels)  female   \n",
       "\n",
       "     age  sibsp  parch  ticket      fare    cabin embarked  \\\n",
       "0  29.00      0      0   24160  211.3375       B5        S   \n",
       "1   0.92      1      2  113781  151.5500  C22 C26        S   \n",
       "2   2.00      1      2  113781  151.5500  C22 C26        S   \n",
       "3  30.00      1      2  113781  151.5500  C22 C26        S   \n",
       "4  25.00      1      2  113781  151.5500  C22 C26        S   \n",
       "\n",
       "                         home.dest  \n",
       "0                     St Louis, MO  \n",
       "1  Montreal, PQ / Chesterville, ON  \n",
       "2  Montreal, PQ / Chesterville, ON  \n",
       "3  Montreal, PQ / Chesterville, ON  \n",
       "4  Montreal, PQ / Chesterville, ON  "
      ]
     },
     "execution_count": 10,
     "metadata": {},
     "output_type": "execute_result"
    }
   ],
   "source": [
    "mask = titanic[['age', 'fare']].applymap(lambda x: math.isnan(x))\n",
    "titanic = titanic[-mask.any(axis = 1)]\n",
    "titanic = titanic.drop(['boat','body'], axis=1)\n",
    "titanic.head(5)"
   ]
  },
  {
   "cell_type": "code",
   "execution_count": 11,
   "metadata": {
    "collapsed": false
   },
   "outputs": [
    {
     "data": {
      "text/plain": [
       "1045"
      ]
     },
     "execution_count": 11,
     "metadata": {},
     "output_type": "execute_result"
    }
   ],
   "source": [
    "len(titanic.index)"
   ]
  },
  {
   "cell_type": "code",
   "execution_count": 12,
   "metadata": {
    "collapsed": false
   },
   "outputs": [
    {
     "data": {
      "text/plain": [
       "Index([u'pclass', u'survived', u'name', u'sex', u'age', u'sibsp', u'parch',\n",
       "       u'ticket', u'fare', u'cabin', u'embarked', u'home.dest'],\n",
       "      dtype='object')"
      ]
     },
     "execution_count": 12,
     "metadata": {},
     "output_type": "execute_result"
    }
   ],
   "source": [
    "titanic.columns"
   ]
  },
  {
   "cell_type": "markdown",
   "metadata": {
    "collapsed": true
   },
   "source": [
    "## Clasificacion y eliminacion de variables\n",
    "\n",
    "Analizando las variables, se eliminan variables identificadores, que a mi entender no aportan al modelo **(name, ticket, cabin, embarked y home.dest)**, ademas clasificamos las variables en categorias y continuas."
   ]
  },
  {
   "cell_type": "code",
   "execution_count": 13,
   "metadata": {
    "collapsed": true
   },
   "outputs": [],
   "source": [
    "var_categoricas = ['pclass','sex','sibsp','parch','embarked' ]\n",
    "var_numericas   = ['age','fare']\n",
    "var_target      = titanic['survived'] == 1"
   ]
  },
  {
   "cell_type": "markdown",
   "metadata": {},
   "source": [
    "## Análisis de las variables discretas"
   ]
  },
  {
   "cell_type": "code",
   "execution_count": 14,
   "metadata": {
    "collapsed": false
   },
   "outputs": [],
   "source": [
    "def calculo_frecuencias():\n",
    "    for var in var_categoricas:\n",
    "        print \"Tabla de frecuencias para:\", var\n",
    "        print pd.crosstab(titanic['survived'], titanic[var])\n",
    "        print"
   ]
  },
  {
   "cell_type": "code",
   "execution_count": 15,
   "metadata": {
    "collapsed": false
   },
   "outputs": [
    {
     "name": "stdout",
     "output_type": "stream",
     "text": [
      "Tabla de frecuencias para: pclass\n",
      "pclass      1    2    3\n",
      "survived               \n",
      "0         103  146  369\n",
      "1         181  115  131\n",
      "\n",
      "Tabla de frecuencias para: sex\n",
      "sex       female  male\n",
      "survived              \n",
      "0             96   522\n",
      "1            292   135\n",
      "\n",
      "Tabla de frecuencias para: sibsp\n",
      "sibsp       0    1   2   3   4  5  8\n",
      "survived                            \n",
      "0         429  133  20  10  19  6  1\n",
      "1         255  147  16   6   3  0  0\n",
      "\n",
      "Tabla de frecuencias para: parch\n",
      "parch       0   1   2  3  4  5  6\n",
      "survived                         \n",
      "0         497  65  42  3  4  5  2\n",
      "1         270  95  55  5  1  1  0\n",
      "\n",
      "Tabla de frecuencias para: embarked\n",
      "embarked    C   Q    S\n",
      "survived              \n",
      "0          80  37  501\n",
      "1         132  13  280\n",
      "\n"
     ]
    }
   ],
   "source": [
    "calculo_frecuencias()"
   ]
  },
  {
   "cell_type": "markdown",
   "metadata": {
    "collapsed": true
   },
   "source": [
    "#### Vemos capacidad predictica WoE"
   ]
  },
  {
   "cell_type": "code",
   "execution_count": 16,
   "metadata": {
    "collapsed": false
   },
   "outputs": [],
   "source": [
    "def get_WoE(data, var, target):\n",
    "    crosstab = pd.crosstab(data[target], data[var])\n",
    "    \n",
    "    print \"Obteniendo el Woe para la variable\", var, \":\"\n",
    "    \n",
    "    for col in crosstab.columns:\n",
    "        if crosstab[col][1] == 0:\n",
    "            print \"  El WoE para\", col, \"[\", sum(crosstab[col]), \"] es infinito\"\n",
    "        else:\n",
    "            print \"  El WoE para\", col, \"[\", sum(crosstab[col]), \"] es\", np.log(float(crosstab[col][0]) / float(crosstab[col][1]))\n",
    "            "
   ]
  },
  {
   "cell_type": "markdown",
   "metadata": {},
   "source": [
    "Analisis de pclass"
   ]
  },
  {
   "cell_type": "code",
   "execution_count": 17,
   "metadata": {
    "collapsed": false
   },
   "outputs": [
    {
     "name": "stdout",
     "output_type": "stream",
     "text": [
      "Obteniendo el Woe para la variable pclass :\n",
      "  El WoE para 1 [ 284 ] es -0.563768043036\n",
      "  El WoE para 2 [ 261 ] es 0.238674493345\n",
      "  El WoE para 3 [ 500 ] es 1.03559932084\n"
     ]
    }
   ],
   "source": [
    "get_WoE(titanic, 'pclass', 'survived')"
   ]
  },
  {
   "cell_type": "markdown",
   "metadata": {},
   "source": [
    "Analisis de sex"
   ]
  },
  {
   "cell_type": "code",
   "execution_count": 18,
   "metadata": {
    "collapsed": false
   },
   "outputs": [
    {
     "name": "stdout",
     "output_type": "stream",
     "text": [
      "Obteniendo el Woe para la variable sex :\n",
      "  El WoE para female [ 388 ] es -1.1124056108\n",
      "  El WoE para male [ 657 ] es 1.35239280944\n"
     ]
    }
   ],
   "source": [
    "get_WoE(titanic, 'sex', 'survived')"
   ]
  },
  {
   "cell_type": "markdown",
   "metadata": {},
   "source": [
    "Analisis de sibsp"
   ]
  },
  {
   "cell_type": "code",
   "execution_count": 19,
   "metadata": {
    "collapsed": false
   },
   "outputs": [
    {
     "name": "stdout",
     "output_type": "stream",
     "text": [
      "Obteniendo el Woe para la variable sibsp :\n",
      "  El WoE para 0 [ 684 ] es 0.52019337377\n",
      "  El WoE para 1 [ 280 ] es -0.100083458557\n",
      "  El WoE para 2 [ 36 ] es 0.223143551314\n",
      "  El WoE para 3 [ 16 ] es 0.510825623766\n",
      "  El WoE para 4 [ 22 ] es 1.8458266905\n",
      "  El WoE para 5 [ 6 ] es infinito\n",
      "  El WoE para 8 [ 1 ] es infinito\n"
     ]
    }
   ],
   "source": [
    "get_WoE(titanic, 'sibsp', 'survived') "
   ]
  },
  {
   "cell_type": "markdown",
   "metadata": {},
   "source": [
    "Para este caso se pueden unificar: **Niveles 1, 5, con el 8, Nivel 0, 2 y 3 con el 4.**"
   ]
  },
  {
   "cell_type": "code",
   "execution_count": 20,
   "metadata": {
    "collapsed": false
   },
   "outputs": [
    {
     "name": "stdout",
     "output_type": "stream",
     "text": [
      "Obteniendo el Woe para la variable sibsp_WOE :\n",
      "  El WoE para n0 [ 287 ] es -0.0487901641694\n",
      "  El WoE para n1 [ 758 ] es 0.534821129322\n"
     ]
    }
   ],
   "source": [
    "titanic.loc[:, 'sibsp_WOE'] = None\n",
    "\n",
    "for row in titanic.index:\n",
    "    if titanic.loc[row, 'sibsp'] in (1, 5, 8):\n",
    "        titanic.loc[row, 'sibsp_WOE'] = 'n0'\n",
    "    elif titanic.loc[row, 'sibsp'] in (0, 3, 2, 4):\n",
    "        titanic.loc[row, 'sibsp_WOE'] = 'n1'\n",
    "    else:\n",
    "        val = titanic.loc[row, 'sibsp']\n",
    "        titanic.loc[row, 'sibsp_WOE'] = val\n",
    "\n",
    "get_WoE(titanic, 'sibsp_WOE', 'survived') \n",
    "var_categoricas = ['pclass', 'sibsp_WOE', 'parch', 'sex', 'embarked'] #modifico mi lista de variables de estudio."
   ]
  },
  {
   "cell_type": "markdown",
   "metadata": {},
   "source": [
    "Analisis de parch"
   ]
  },
  {
   "cell_type": "code",
   "execution_count": 21,
   "metadata": {
    "collapsed": false
   },
   "outputs": [
    {
     "name": "stdout",
     "output_type": "stream",
     "text": [
      "Obteniendo el Woe para la variable parch :\n",
      "  El WoE para 0 [ 767 ] es 0.610168067098\n",
      "  El WoE para 1 [ 160 ] es -0.379489621705\n",
      "  El WoE para 2 [ 97 ] es -0.269663566949\n",
      "  El WoE para 3 [ 8 ] es -0.510825623766\n",
      "  El WoE para 4 [ 5 ] es 1.38629436112\n",
      "  El WoE para 5 [ 6 ] es 1.60943791243\n",
      "  El WoE para 6 [ 2 ] es infinito\n"
     ]
    }
   ],
   "source": [
    "woe = get_WoE(titanic, 'parch', 'survived') "
   ]
  },
  {
   "cell_type": "markdown",
   "metadata": {},
   "source": [
    "Para este caso se pueden unificar: ** Niveles 1, 2 y 3 con nivel 6, El nivel 4 con 5.**"
   ]
  },
  {
   "cell_type": "code",
   "execution_count": 22,
   "metadata": {
    "collapsed": false
   },
   "outputs": [
    {
     "name": "stdout",
     "output_type": "stream",
     "text": [
      "Obteniendo el Woe para la variable parch_WOE_T :\n",
      "  El WoE para 0 [ 767 ] es 0.610168067098\n",
      "  El WoE para n0 [ 267 ] es -0.324926245624\n",
      "  El WoE para n1 [ 11 ] es 1.50407739678\n"
     ]
    }
   ],
   "source": [
    "titanic.loc[:, 'parch_WOE_T'] = None\n",
    "\n",
    "for row in titanic.index:\n",
    "    if titanic.loc[row, 'parch'] in (1, 2, 3, 6):\n",
    "        titanic.loc[row, 'parch_WOE_T'] = 'n0'\n",
    "    elif titanic.loc[row, 'parch'] in (4,5):\n",
    "        titanic.loc[row, 'parch_WOE_T'] = 'n1'\n",
    "    else:\n",
    "        val = titanic.loc[row, 'parch']\n",
    "        titanic.loc[row, 'parch_WOE_T'] = val\n",
    "\n",
    "get_WoE(titanic, 'parch_WOE_T', 'survived')\n",
    "var_categoricas = ['pclass', 'sibsp_WOE_T', 'parch_WOE', 'sex', 'embarked'] #modifico mi lista de variables de estudio."
   ]
  },
  {
   "cell_type": "markdown",
   "metadata": {},
   "source": [
    "Aun podemos unificar el 0 con el n1, por ser positivos."
   ]
  },
  {
   "cell_type": "code",
   "execution_count": 23,
   "metadata": {
    "collapsed": false
   },
   "outputs": [
    {
     "name": "stdout",
     "output_type": "stream",
     "text": [
      "Obteniendo el Woe para la variable parch_WOE :\n",
      "  El WoE para n0 [ 267 ] es -0.324926245624\n",
      "  El WoE para n1 [ 778 ] es 0.620734602991\n"
     ]
    }
   ],
   "source": [
    "titanic.loc[:, 'parch_WOE'] = None\n",
    "titanic.loc[:, 'parch_WOE'] = titanic['parch_WOE_T'].map(lambda x: 'n0' if x == 'n0' else 'n1')\n",
    "get_WoE(titanic, 'parch_WOE', 'survived') \n",
    "var_categoricas = ['pclass', 'sibsp_WOE', 'parch_WOE', 'sex', 'embarked'] #modifico mi lista de variables de estudio."
   ]
  },
  {
   "cell_type": "markdown",
   "metadata": {},
   "source": [
    "Analisis de Embarked"
   ]
  },
  {
   "cell_type": "code",
   "execution_count": 24,
   "metadata": {
    "collapsed": false
   },
   "outputs": [
    {
     "name": "stdout",
     "output_type": "stream",
     "text": [
      "Obteniendo el Woe para la variable embarked :\n",
      "  El WoE para C [ 212 ] es -0.500775287912\n",
      "  El WoE para Q [ 50 ] es 1.04596855518\n",
      "  El WoE para S [ 781 ] es 0.581816497916\n"
     ]
    }
   ],
   "source": [
    "get_WoE(titanic, 'embarked', 'survived')"
   ]
  },
  {
   "cell_type": "markdown",
   "metadata": {},
   "source": [
    "Agrupo niveles Q y S porque ser postivos y Q tener pocos registros"
   ]
  },
  {
   "cell_type": "code",
   "execution_count": 25,
   "metadata": {
    "collapsed": false
   },
   "outputs": [
    {
     "name": "stdout",
     "output_type": "stream",
     "text": [
      "Obteniendo el Woe para la variable embarked_WOE :\n",
      "  El WoE para C [ 212 ] es -0.500775287912\n",
      "  El WoE para n1 [ 833 ] es 0.600883203822\n"
     ]
    }
   ],
   "source": [
    "titanic.loc[:, 'embarked_WOE'] = None\n",
    "titanic.loc[:, 'embarked_WOE'] = titanic['embarked'].map(lambda x: 'C' if x == 'C' else 'n1')\n",
    "\n",
    "get_WoE(titanic, 'embarked_WOE', 'survived')\n",
    "var_categoricas = ['pclass', 'sibsp_WOE', 'parch_WOE', 'sex', 'embarked_WOE'] #modifico mi lista de variables de estudio."
   ]
  },
  {
   "cell_type": "code",
   "execution_count": 26,
   "metadata": {
    "collapsed": false
   },
   "outputs": [
    {
     "name": "stdout",
     "output_type": "stream",
     "text": [
      "Tabla de frecuencias para: pclass\n",
      "pclass      1    2    3\n",
      "survived               \n",
      "0         103  146  369\n",
      "1         181  115  131\n",
      "\n",
      "Tabla de frecuencias para: sibsp_WOE\n",
      "sibsp_WOE   n0   n1\n",
      "survived           \n",
      "0          140  478\n",
      "1          147  280\n",
      "\n",
      "Tabla de frecuencias para: parch_WOE\n",
      "parch_WOE   n0   n1\n",
      "survived           \n",
      "0          112  506\n",
      "1          155  272\n",
      "\n",
      "Tabla de frecuencias para: sex\n",
      "sex       female  male\n",
      "survived              \n",
      "0             96   522\n",
      "1            292   135\n",
      "\n",
      "Tabla de frecuencias para: embarked_WOE\n",
      "embarked_WOE    C   n1\n",
      "survived              \n",
      "0              80  538\n",
      "1             132  295\n",
      "\n"
     ]
    }
   ],
   "source": [
    "calculo_frecuencias()"
   ]
  },
  {
   "cell_type": "markdown",
   "metadata": {},
   "source": [
    "## Analisis de las variables continuas."
   ]
  },
  {
   "cell_type": "code",
   "execution_count": 27,
   "metadata": {
    "collapsed": false
   },
   "outputs": [
    {
     "data": {
      "text/plain": [
       "array([[<matplotlib.axes._subplots.AxesSubplot object at 0x000000000C4DE3C8>,\n",
       "        <matplotlib.axes._subplots.AxesSubplot object at 0x000000000C707748>]], dtype=object)"
      ]
     },
     "execution_count": 27,
     "metadata": {},
     "output_type": "execute_result"
    },
    {
     "data": {
      "image/png": "[encoded data removed]",
      "text/plain": [
       "<matplotlib.figure.Figure at 0xbcaeb70>"
      ]
     },
     "metadata": {},
     "output_type": "display_data"
    }
   ],
   "source": [
    "%matplotlib inline\n",
    "titanic[var_numericas].hist(bins=30)"
   ]
  },
  {
   "cell_type": "code",
   "execution_count": 28,
   "metadata": {
    "collapsed": false
   },
   "outputs": [
    {
     "data": {
      "text/plain": [
       "<matplotlib.axes._subplots.AxesSubplot at 0xc4dee48>"
      ]
     },
     "execution_count": 28,
     "metadata": {},
     "output_type": "execute_result"
    },
    {
     "data": {
      "image/png": "[encoded data removed]",
      "text/plain": [
       "<matplotlib.figure.Figure at 0xc9bf400>"
      ]
     },
     "metadata": {},
     "output_type": "display_data"
    }
   ],
   "source": [
    "titanic['age'][var_target].hist(bins=30)"
   ]
  },
  {
   "cell_type": "code",
   "execution_count": 29,
   "metadata": {
    "collapsed": false
   },
   "outputs": [
    {
     "data": {
      "text/plain": [
       "<matplotlib.axes._subplots.AxesSubplot at 0xc4e1b38>"
      ]
     },
     "execution_count": 29,
     "metadata": {},
     "output_type": "execute_result"
    },
    {
     "data": {
      "image/png": "[encoded data removed]",
      "text/plain": [
       "<matplotlib.figure.Figure at 0xdca56d8>"
      ]
     },
     "metadata": {},
     "output_type": "display_data"
    }
   ],
   "source": [
    "titanic['age'][var_target==False].hist(bins=30)"
   ]
  },
  {
   "cell_type": "markdown",
   "metadata": {},
   "source": [
    "Se observan 3 grupos: ** Entre los 0 y 16 años, Entre los 17 y 40 años y A partir de los 40 Años **"
   ]
  },
  {
   "cell_type": "code",
   "execution_count": 30,
   "metadata": {
    "collapsed": true
   },
   "outputs": [],
   "source": [
    "titanic.loc[:, 'age_VC'] = titanic['age'].map(lambda x: 'n0' if x < 17 else 'n1' if x < 40 else 'n2')"
   ]
  },
  {
   "cell_type": "code",
   "execution_count": 31,
   "metadata": {
    "collapsed": false
   },
   "outputs": [
    {
     "data": {
      "text/plain": [
       "<matplotlib.axes._subplots.AxesSubplot at 0xdfa1d30>"
      ]
     },
     "execution_count": 31,
     "metadata": {},
     "output_type": "execute_result"
    },
    {
     "data": {
      "image/png": "[encoded data removed]",
      "text/plain": [
       "<matplotlib.figure.Figure at 0xc4e1ef0>"
      ]
     },
     "metadata": {},
     "output_type": "display_data"
    }
   ],
   "source": [
    "titanic['fare'][var_target].hist(bins=30)"
   ]
  },
  {
   "cell_type": "code",
   "execution_count": 32,
   "metadata": {
    "collapsed": false
   },
   "outputs": [
    {
     "data": {
      "text/plain": [
       "<matplotlib.axes._subplots.AxesSubplot at 0xe359b00>"
      ]
     },
     "execution_count": 32,
     "metadata": {},
     "output_type": "execute_result"
    },
    {
     "data": {
      "image/png": "[encoded data removed]",
      "text/plain": [
       "<matplotlib.figure.Figure at 0xe28d470>"
      ]
     },
     "metadata": {},
     "output_type": "display_data"
    }
   ],
   "source": [
    "titanic['fare'][var_target==False].hist(bins=30)"
   ]
  },
  {
   "cell_type": "markdown",
   "metadata": {},
   "source": [
    "Se observan 3 grupos: ** Entre los 0 y 40, Entre los 40 y 100, A partir de los 100 **"
   ]
  },
  {
   "cell_type": "code",
   "execution_count": 33,
   "metadata": {
    "collapsed": true
   },
   "outputs": [],
   "source": [
    "titanic.loc[:, 'fare_VC'] = titanic['fare'].map(lambda x: 'n0' if x < 40 else 'n1' if x < 100 else 'n2')"
   ]
  },
  {
   "cell_type": "markdown",
   "metadata": {},
   "source": [
    "Modificacion de las variables a estudiar"
   ]
  },
  {
   "cell_type": "code",
   "execution_count": 34,
   "metadata": {
    "collapsed": false
   },
   "outputs": [
    {
     "data": {
      "text/html": [
       "<div>\n",
       "<table border=\"1\" class=\"dataframe\">\n",
       "  <thead>\n",
       "    <tr style=\"text-align: right;\">\n",
       "      <th></th>\n",
       "      <th>pclass</th>\n",
       "      <th>survived</th>\n",
       "      <th>name</th>\n",
       "      <th>sex</th>\n",
       "      <th>age</th>\n",
       "      <th>sibsp</th>\n",
       "      <th>parch</th>\n",
       "      <th>ticket</th>\n",
       "      <th>fare</th>\n",
       "      <th>cabin</th>\n",
       "      <th>embarked</th>\n",
       "      <th>home.dest</th>\n",
       "      <th>sibsp_WOE</th>\n",
       "      <th>parch_WOE_T</th>\n",
       "      <th>parch_WOE</th>\n",
       "      <th>embarked_WOE</th>\n",
       "      <th>age_VC</th>\n",
       "      <th>fare_VC</th>\n",
       "    </tr>\n",
       "  </thead>\n",
       "  <tbody>\n",
       "    <tr>\n",
       "      <th>0</th>\n",
       "      <td>1</td>\n",
       "      <td>1</td>\n",
       "      <td>Allen, Miss. Elisabeth Walton</td>\n",
       "      <td>female</td>\n",
       "      <td>29.00</td>\n",
       "      <td>0</td>\n",
       "      <td>0</td>\n",
       "      <td>24160</td>\n",
       "      <td>211.3375</td>\n",
       "      <td>B5</td>\n",
       "      <td>S</td>\n",
       "      <td>St Louis, MO</td>\n",
       "      <td>n1</td>\n",
       "      <td>0</td>\n",
       "      <td>n1</td>\n",
       "      <td>n1</td>\n",
       "      <td>n1</td>\n",
       "      <td>n2</td>\n",
       "    </tr>\n",
       "    <tr>\n",
       "      <th>1</th>\n",
       "      <td>1</td>\n",
       "      <td>1</td>\n",
       "      <td>Allison, Master. Hudson Trevor</td>\n",
       "      <td>male</td>\n",
       "      <td>0.92</td>\n",
       "      <td>1</td>\n",
       "      <td>2</td>\n",
       "      <td>113781</td>\n",
       "      <td>151.5500</td>\n",
       "      <td>C22 C26</td>\n",
       "      <td>S</td>\n",
       "      <td>Montreal, PQ / Chesterville, ON</td>\n",
       "      <td>n0</td>\n",
       "      <td>n0</td>\n",
       "      <td>n0</td>\n",
       "      <td>n1</td>\n",
       "      <td>n0</td>\n",
       "      <td>n2</td>\n",
       "    </tr>\n",
       "    <tr>\n",
       "      <th>2</th>\n",
       "      <td>1</td>\n",
       "      <td>0</td>\n",
       "      <td>Allison, Miss. Helen Loraine</td>\n",
       "      <td>female</td>\n",
       "      <td>2.00</td>\n",
       "      <td>1</td>\n",
       "      <td>2</td>\n",
       "      <td>113781</td>\n",
       "      <td>151.5500</td>\n",
       "      <td>C22 C26</td>\n",
       "      <td>S</td>\n",
       "      <td>Montreal, PQ / Chesterville, ON</td>\n",
       "      <td>n0</td>\n",
       "      <td>n0</td>\n",
       "      <td>n0</td>\n",
       "      <td>n1</td>\n",
       "      <td>n0</td>\n",
       "      <td>n2</td>\n",
       "    </tr>\n",
       "    <tr>\n",
       "      <th>3</th>\n",
       "      <td>1</td>\n",
       "      <td>0</td>\n",
       "      <td>Allison, Mr. Hudson Joshua Creighton</td>\n",
       "      <td>male</td>\n",
       "      <td>30.00</td>\n",
       "      <td>1</td>\n",
       "      <td>2</td>\n",
       "      <td>113781</td>\n",
       "      <td>151.5500</td>\n",
       "      <td>C22 C26</td>\n",
       "      <td>S</td>\n",
       "      <td>Montreal, PQ / Chesterville, ON</td>\n",
       "      <td>n0</td>\n",
       "      <td>n0</td>\n",
       "      <td>n0</td>\n",
       "      <td>n1</td>\n",
       "      <td>n1</td>\n",
       "      <td>n2</td>\n",
       "    </tr>\n",
       "    <tr>\n",
       "      <th>4</th>\n",
       "      <td>1</td>\n",
       "      <td>0</td>\n",
       "      <td>Allison, Mrs. Hudson J C (Bessie Waldo Daniels)</td>\n",
       "      <td>female</td>\n",
       "      <td>25.00</td>\n",
       "      <td>1</td>\n",
       "      <td>2</td>\n",
       "      <td>113781</td>\n",
       "      <td>151.5500</td>\n",
       "      <td>C22 C26</td>\n",
       "      <td>S</td>\n",
       "      <td>Montreal, PQ / Chesterville, ON</td>\n",
       "      <td>n0</td>\n",
       "      <td>n0</td>\n",
       "      <td>n0</td>\n",
       "      <td>n1</td>\n",
       "      <td>n1</td>\n",
       "      <td>n2</td>\n",
       "    </tr>\n",
       "  </tbody>\n",
       "</table>\n",
       "</div>"
      ],
      "text/plain": [
       "   pclass  survived                                             name     sex  \\\n",
       "0       1         1                    Allen, Miss. Elisabeth Walton  female   \n",
       "1       1         1                   Allison, Master. Hudson Trevor    male   \n",
       "2       1         0                     Allison, Miss. Helen Loraine  female   \n",
       "3       1         0             Allison, Mr. Hudson Joshua Creighton    male   \n",
       "4       1         0  Allison, Mrs. Hudson J C (Bessie Waldo Daniels)  female   \n",
       "\n",
       "     age  sibsp  parch  ticket      fare    cabin embarked  \\\n",
       "0  29.00      0      0   24160  211.3375       B5        S   \n",
       "1   0.92      1      2  113781  151.5500  C22 C26        S   \n",
       "2   2.00      1      2  113781  151.5500  C22 C26        S   \n",
       "3  30.00      1      2  113781  151.5500  C22 C26        S   \n",
       "4  25.00      1      2  113781  151.5500  C22 C26        S   \n",
       "\n",
       "                         home.dest sibsp_WOE parch_WOE_T parch_WOE  \\\n",
       "0                     St Louis, MO        n1           0        n1   \n",
       "1  Montreal, PQ / Chesterville, ON        n0          n0        n0   \n",
       "2  Montreal, PQ / Chesterville, ON        n0          n0        n0   \n",
       "3  Montreal, PQ / Chesterville, ON        n0          n0        n0   \n",
       "4  Montreal, PQ / Chesterville, ON        n0          n0        n0   \n",
       "\n",
       "  embarked_WOE age_VC fare_VC  \n",
       "0           n1     n1      n2  \n",
       "1           n1     n0      n2  \n",
       "2           n1     n0      n2  \n",
       "3           n1     n1      n2  \n",
       "4           n1     n1      n2  "
      ]
     },
     "execution_count": 34,
     "metadata": {},
     "output_type": "execute_result"
    }
   ],
   "source": [
    "var_categoricas = ['pclass', 'sex', 'embarked_WOE', 'sibsp_WOE', 'parch_WOE', 'age_VC', 'fare_VC']\n",
    "var_continuas = []\n",
    "titanic.head(5)"
   ]
  },
  {
   "cell_type": "code",
   "execution_count": 35,
   "metadata": {
    "collapsed": false
   },
   "outputs": [
    {
     "name": "stdout",
     "output_type": "stream",
     "text": [
      "Tabla de frecuencias para: pclass\n",
      "pclass      1    2    3\n",
      "survived               \n",
      "0         103  146  369\n",
      "1         181  115  131\n",
      "\n",
      "Tabla de frecuencias para: sex\n",
      "sex       female  male\n",
      "survived              \n",
      "0             96   522\n",
      "1            292   135\n",
      "\n",
      "Tabla de frecuencias para: embarked_WOE\n",
      "embarked_WOE    C   n1\n",
      "survived              \n",
      "0              80  538\n",
      "1             132  295\n",
      "\n",
      "Tabla de frecuencias para: sibsp_WOE\n",
      "sibsp_WOE   n0   n1\n",
      "survived           \n",
      "0          140  478\n",
      "1          147  280\n",
      "\n",
      "Tabla de frecuencias para: parch_WOE\n",
      "parch_WOE   n0   n1\n",
      "survived           \n",
      "0          112  506\n",
      "1          155  272\n",
      "\n",
      "Tabla de frecuencias para: age_VC\n",
      "age_VC    n0   n1   n2\n",
      "survived              \n",
      "0         60  410  148\n",
      "1         74  257   96\n",
      "\n",
      "Tabla de frecuencias para: fare_VC\n",
      "fare_VC    n0  n1  n2\n",
      "survived             \n",
      "0         534  62  22\n",
      "1         276  94  57\n",
      "\n"
     ]
    }
   ],
   "source": [
    "calculo_frecuencias()"
   ]
  },
  {
   "cell_type": "markdown",
   "metadata": {
    "collapsed": true
   },
   "source": [
    "## Creación de un modelo con variables discretizadas\n",
    "Seleccionando variablaes con Information Value (IV)"
   ]
  },
  {
   "cell_type": "code",
   "execution_count": 36,
   "metadata": {
    "collapsed": false
   },
   "outputs": [
    {
     "name": "stdout",
     "output_type": "stream",
     "text": [
      "La variable pclass el IV es 0.67613129015\n",
      "La variable sex el IV es 1.35855179749\n",
      "La variable embarked_WOE el IV es 0.298119331691\n",
      "La variable sibsp_WOE el IV es 0.140892620898\n",
      "La variable parch_WOE el IV es 0.239028042454\n",
      "La variable age_VC el IV es 0.221302358608\n",
      "La variable fare_VC el IV es 0.717362913482\n"
     ]
    }
   ],
   "source": [
    "from sklearn.linear_model.logistic import LogisticRegression\n",
    "\n",
    "valoresIV = []\n",
    "\n",
    "for v_cat in var_categoricas:\n",
    "    var_target = array(var_target)\n",
    "    var_values = array(titanic[v_cat])\n",
    "    var_levels = unique(var_values)\n",
    "\n",
    "    mat_values = numpy.zeros(shape=(len(var_levels),2))\n",
    "\n",
    "    for i in range(len(var_target)):\n",
    "        for j in range(len(var_levels)):\n",
    "            if var_levels[j] == var_values[i]:\n",
    "                pos = j\n",
    "                break\n",
    "\n",
    "        if var_target[i]:\n",
    "            mat_values[pos][0] += 1\n",
    "        else:\n",
    "            mat_values[pos][1] += 1\n",
    "\n",
    "        # Calculando IV\n",
    "        IV = 0\n",
    "        for j in range(len(var_levels)):\n",
    "            if mat_values[j][0] > 0 and mat_values[j][1] > 0:\n",
    "                rt = mat_values[j][0] / (mat_values[j][0] + mat_values[j][1])\n",
    "                rf = mat_values[j][1] / (mat_values[j][0] + mat_values[j][1])\n",
    "                IV += (rt - rf) * np.log(rt / rf)\n",
    "\n",
    "    # Se agrega el IV al listado\n",
    "    valoresIV.append(IV)\n",
    "\n",
    "for i in range(len(var_categoricas)):\n",
    "    print \"La variable\", var_categoricas[i], \"el IV es\", valoresIV[i]\n"
   ]
  },
  {
   "cell_type": "markdown",
   "metadata": {
    "collapsed": true
   },
   "source": [
    "Segun la tabal proporcionada en clase, los valores por encima del 0.3, son las que tienen fuerte y muy fuerte capacidad de clasifiacion.\n",
    "\n",
    "Por tal motivo, este modelo tiene las siguientes variable: ** CLASS, SEX y FARE_VC **\n",
    "\n",
    "Por lo tanto se actualiza la lisa para las variables de estudio"
   ]
  },
  {
   "cell_type": "code",
   "execution_count": 37,
   "metadata": {
    "collapsed": true
   },
   "outputs": [],
   "source": [
    "var_categoricas = ['pclass','sex', 'fare_VC' ] #actualizo mi lista de variables de estudio."
   ]
  },
  {
   "cell_type": "markdown",
   "metadata": {},
   "source": [
    "## Obtención del valor del VIF\n",
    "Culcular el valor del VIF para todas las variables menos la objetivo. Para esto se realiza una regresión lineal de cada una de las variables frente al resto y aplicamos la fórmula del VIF \n",
    "\n",
    "Creamos dummies ya que las variables que tenemos son discretizadas"
   ]
  },
  {
   "cell_type": "code",
   "execution_count": 38,
   "metadata": {
    "collapsed": false
   },
   "outputs": [
    {
     "data": {
      "text/html": [
       "<div>\n",
       "<table border=\"1\" class=\"dataframe\">\n",
       "  <thead>\n",
       "    <tr style=\"text-align: right;\">\n",
       "      <th></th>\n",
       "      <th>survived</th>\n",
       "      <th>pclass_2</th>\n",
       "      <th>pclass_3</th>\n",
       "      <th>sex_male</th>\n",
       "      <th>fare_VC_n1</th>\n",
       "      <th>fare_VC_n2</th>\n",
       "    </tr>\n",
       "  </thead>\n",
       "  <tbody>\n",
       "    <tr>\n",
       "      <th>0</th>\n",
       "      <td>1</td>\n",
       "      <td>0.0</td>\n",
       "      <td>0.0</td>\n",
       "      <td>0.0</td>\n",
       "      <td>0.0</td>\n",
       "      <td>1.0</td>\n",
       "    </tr>\n",
       "    <tr>\n",
       "      <th>1</th>\n",
       "      <td>1</td>\n",
       "      <td>0.0</td>\n",
       "      <td>0.0</td>\n",
       "      <td>1.0</td>\n",
       "      <td>0.0</td>\n",
       "      <td>1.0</td>\n",
       "    </tr>\n",
       "    <tr>\n",
       "      <th>2</th>\n",
       "      <td>0</td>\n",
       "      <td>0.0</td>\n",
       "      <td>0.0</td>\n",
       "      <td>0.0</td>\n",
       "      <td>0.0</td>\n",
       "      <td>1.0</td>\n",
       "    </tr>\n",
       "    <tr>\n",
       "      <th>3</th>\n",
       "      <td>0</td>\n",
       "      <td>0.0</td>\n",
       "      <td>0.0</td>\n",
       "      <td>1.0</td>\n",
       "      <td>0.0</td>\n",
       "      <td>1.0</td>\n",
       "    </tr>\n",
       "    <tr>\n",
       "      <th>4</th>\n",
       "      <td>0</td>\n",
       "      <td>0.0</td>\n",
       "      <td>0.0</td>\n",
       "      <td>0.0</td>\n",
       "      <td>0.0</td>\n",
       "      <td>1.0</td>\n",
       "    </tr>\n",
       "  </tbody>\n",
       "</table>\n",
       "</div>"
      ],
      "text/plain": [
       "   survived  pclass_2  pclass_3  sex_male  fare_VC_n1  fare_VC_n2\n",
       "0         1       0.0       0.0       0.0         0.0         1.0\n",
       "1         1       0.0       0.0       1.0         0.0         1.0\n",
       "2         0       0.0       0.0       0.0         0.0         1.0\n",
       "3         0       0.0       0.0       1.0         0.0         1.0\n",
       "4         0       0.0       0.0       0.0         0.0         1.0"
      ]
     },
     "execution_count": 38,
     "metadata": {},
     "output_type": "execute_result"
    }
   ],
   "source": [
    "titanic_dummie = titanic[['pclass','sex', 'fare_VC','survived']]\n",
    "for column in var_categoricas:\n",
    "    dummie = pd.get_dummies(titanic_dummie[column], prefix = column)\n",
    "    names = list(dummie.columns)\n",
    "    names.remove(names[0])\n",
    "    titanic_dummie = pd.concat([titanic_dummie, dummie[names]], axis = 1)\n",
    "    names = list(titanic_dummie.columns)\n",
    "    names.remove(column)\n",
    "    titanic_dummie = titanic_dummie[names]\n",
    "    \n",
    "titanic_dummie.head(5)"
   ]
  },
  {
   "cell_type": "code",
   "execution_count": 39,
   "metadata": {
    "collapsed": false
   },
   "outputs": [],
   "source": [
    "from sklearn.linear_model import LinearRegression\n",
    "\n",
    "def calculateVIF(data):\n",
    "    features = list(data.columns)\n",
    "    num_features = len(features)\n",
    "    \n",
    "    model = LinearRegression()\n",
    "    \n",
    "    result = pd.DataFrame(index = ['VIF'], columns = features)\n",
    "    result = result.fillna(0)\n",
    "    \n",
    "    for ite in range(num_features):\n",
    "        x_features = features[:]\n",
    "        y_featue = features[ite]\n",
    "        x_features.remove(y_featue)\n",
    "        \n",
    "        x = data[x_features]\n",
    "        y = data[y_featue]\n",
    "        \n",
    "        model.fit(data[x_features], data[y_featue])\n",
    "        \n",
    "        result[y_featue] = 1/(1 - model.score(data[x_features], data[y_featue]))\n",
    "    \n",
    "    return result\n",
    "\n",
    "def selectDataUsingVIF(data, max_VIF = 5):\n",
    "    result = data.copy(deep = True)\n",
    "    \n",
    "    VIF = calculateVIF(result)\n",
    "    \n",
    "    while VIF.as_matrix().max() > max_VIF:\n",
    "        col_max = np.where(VIF == VIF.as_matrix().max())[1][0]\n",
    "        features = list(result.columns)\n",
    "        features.remove(features[col_max])\n",
    "        result = result[features]\n",
    "        \n",
    "        VIF = calculateVIF(result)\n",
    "        \n",
    "    return result"
   ]
  },
  {
   "cell_type": "code",
   "execution_count": 40,
   "metadata": {
    "collapsed": false
   },
   "outputs": [
    {
     "data": {
      "text/html": [
       "<div>\n",
       "<table border=\"1\" class=\"dataframe\">\n",
       "  <thead>\n",
       "    <tr style=\"text-align: right;\">\n",
       "      <th></th>\n",
       "      <th>pclass_2</th>\n",
       "      <th>pclass_3</th>\n",
       "      <th>sex_male</th>\n",
       "      <th>fare_VC_n1</th>\n",
       "      <th>fare_VC_n2</th>\n",
       "    </tr>\n",
       "  </thead>\n",
       "  <tbody>\n",
       "    <tr>\n",
       "      <th>VIF</th>\n",
       "      <td>2.513599</td>\n",
       "      <td>3.002171</td>\n",
       "      <td>1.042924</td>\n",
       "      <td>1.761034</td>\n",
       "      <td>1.683079</td>\n",
       "    </tr>\n",
       "  </tbody>\n",
       "</table>\n",
       "</div>"
      ],
      "text/plain": [
       "     pclass_2  pclass_3  sex_male  fare_VC_n1  fare_VC_n2\n",
       "VIF  2.513599  3.002171  1.042924    1.761034    1.683079"
      ]
     },
     "execution_count": 40,
     "metadata": {},
     "output_type": "execute_result"
    }
   ],
   "source": [
    "var_categoricas = ['pclass_2', 'pclass_3', 'sex_male', 'fare_VC_n1', 'fare_VC_n2'] #actualizo lista de variables de estudio\n",
    "calculateVIF(titanic_dummie[var_categoricas])"
   ]
  },
  {
   "cell_type": "markdown",
   "metadata": {},
   "source": [
    "Todos los valores son muy bajos, no sobrepasan de valor **VIF >= 5**, No vamos a quitar ninguna variable del modelo."
   ]
  },
  {
   "cell_type": "markdown",
   "metadata": {},
   "source": [
    "## Analisis de Variables"
   ]
  },
  {
   "cell_type": "code",
   "execution_count": 41,
   "metadata": {
    "collapsed": false
   },
   "outputs": [
    {
     "name": "stdout",
     "output_type": "stream",
     "text": [
      "Paso 1 variable sex_male con RMS 0.424951996972\n",
      "Paso 2 variable pclass_3 con RMS 0.40722445704\n",
      "(['sex_male', 'pclass_3'], [0.424951996972045, 0.40722445704025451], ['sex_male', 'pclass_3'])\n"
     ]
    }
   ],
   "source": [
    "def forward_regression(x,y):\n",
    "    # Obtencion del conjunto de datos para validación\n",
    "    x_train, x_test, y_train, y_test = train_test_split(x, y)\n",
    "\n",
    "    # Modelo para realizar los ajustes\n",
    "    model = LinearRegression()\n",
    "\n",
    "    # Variable para almecena los índices de la lista de atributos usados\n",
    "    feature_list = list(x.columns)\n",
    "    feature_order = []\n",
    "    feature_error = []\n",
    "    feature_names = []\n",
    "\n",
    "    # Iteración sobre todas las variables\n",
    "    for i in range(len(feature_list)):\n",
    "         \n",
    "        idx_try = [val for val in range(len(feature_list)) if val not in feature_order]\n",
    "        iter_error = []\n",
    "\n",
    "        #print \"idx_try \", idx_try, \"feature_order\" , feature_order\n",
    "        \n",
    "        for i_try in idx_try:\n",
    "            useRow = feature_order[:]\n",
    "            useRow.append(i_try)\n",
    "    \n",
    "            use_train = x_train[x_train.columns[useRow]]\n",
    "            use_test = x_test[x_train.columns[useRow]]\n",
    "\n",
    "\n",
    "            model.fit(use_train, y_train)\n",
    "            rmsError = numpy.linalg.norm((y_test - model.predict(use_test)), 2)/sqrt(len(y_test))\n",
    "            iter_error.append(rmsError)\n",
    "\n",
    "        pos_best = numpy.argmin(iter_error)\n",
    "        \n",
    "        #el criterio de parada si el error aumenta nos salimos,\n",
    "        if len(feature_error) == 0 or (iter_error[pos_best] < feature_error[-1]):\n",
    "            feature_order.append(idx_try[pos_best])\n",
    "            feature_error.append(iter_error[pos_best])\n",
    "            feature_names.append(feature_list[idx_try[pos_best]])\n",
    "            print \"Paso\", len(feature_error), \"variable\", feature_list[idx_try[pos_best]], \"con RMS\", iter_error[pos_best]\n",
    "        else:\n",
    "            return feature_names, feature_error, feature_names\n",
    "\n",
    "    return feature_names, feature_order, feature_error\n",
    "\n",
    "x=titanic_dummie[var_categoricas]\n",
    "y=titanic_dummie['survived']\n",
    "print forward_regression(x,y)"
   ]
  },
  {
   "cell_type": "markdown",
   "metadata": {},
   "source": [
    "Como resultado del Forward Regression, vamos a incluir las variable: ** SEX_MALE, PCLASS_3, PCLASS_2 **"
   ]
  },
  {
   "cell_type": "markdown",
   "metadata": {},
   "source": [
    "## Ejecutamos la Regresion"
   ]
  },
  {
   "cell_type": "code",
   "execution_count": 42,
   "metadata": {
    "collapsed": false
   },
   "outputs": [],
   "source": [
    "from sklearn.metrics import accuracy_score, auc, confusion_matrix, f1_score, precision_score, recall_score, roc_curve\n",
    "import pandas as pd\n",
    "\n",
    "def metricas_modelos(y_true, y_pred):\n",
    "    from sklearn.metrics import accuracy_score, auc, confusion_matrix, f1_score, precision_score, recall_score, roc_curve\n",
    "\n",
    "    # Obtención de matriz de confusión\n",
    "    confusion_matrix = confusion_matrix(y_true, y_pred)\n",
    "\n",
    "    print \"La matriz de confusión es \"\n",
    "    print confusion_matrix\n",
    "\n",
    "    print 'Precisión:', accuracy_score(y_true, y_pred)\n",
    "    print 'Exactitud:', precision_score(y_true, y_pred)\n",
    "    print 'Exhaustividad:', recall_score(y_true, y_pred)\n",
    "    print 'F1:', f1_score(y_true, y_pred)\n",
    "\n",
    "    false_positive_rate, recall, thresholds = roc_curve(y_true, y_pred)\n",
    "    roc_auc = auc(false_positive_rate, recall)\n",
    "\n",
    "    print 'AUC:', auc(false_positive_rate, recall)\n",
    "\n",
    "    plt.plot(false_positive_rate, recall, 'b')\n",
    "    plt.plot([0, 1], [0, 1], 'r--')\n",
    "    plt.title('AUC = %0.2f' % roc_auc)"
   ]
  },
  {
   "cell_type": "code",
   "execution_count": 43,
   "metadata": {
    "collapsed": false
   },
   "outputs": [
    {
     "data": {
      "text/html": [
       "<div>\n",
       "<table border=\"1\" class=\"dataframe\">\n",
       "  <thead>\n",
       "    <tr style=\"text-align: right;\">\n",
       "      <th></th>\n",
       "      <th>survived</th>\n",
       "      <th>pclass_3</th>\n",
       "      <th>pclass_2</th>\n",
       "      <th>sex_male</th>\n",
       "    </tr>\n",
       "  </thead>\n",
       "  <tbody>\n",
       "    <tr>\n",
       "      <th>0</th>\n",
       "      <td>1</td>\n",
       "      <td>0.0</td>\n",
       "      <td>0.0</td>\n",
       "      <td>0.0</td>\n",
       "    </tr>\n",
       "    <tr>\n",
       "      <th>1</th>\n",
       "      <td>1</td>\n",
       "      <td>0.0</td>\n",
       "      <td>0.0</td>\n",
       "      <td>1.0</td>\n",
       "    </tr>\n",
       "    <tr>\n",
       "      <th>2</th>\n",
       "      <td>0</td>\n",
       "      <td>0.0</td>\n",
       "      <td>0.0</td>\n",
       "      <td>0.0</td>\n",
       "    </tr>\n",
       "    <tr>\n",
       "      <th>3</th>\n",
       "      <td>0</td>\n",
       "      <td>0.0</td>\n",
       "      <td>0.0</td>\n",
       "      <td>1.0</td>\n",
       "    </tr>\n",
       "    <tr>\n",
       "      <th>4</th>\n",
       "      <td>0</td>\n",
       "      <td>0.0</td>\n",
       "      <td>0.0</td>\n",
       "      <td>0.0</td>\n",
       "    </tr>\n",
       "  </tbody>\n",
       "</table>\n",
       "</div>"
      ],
      "text/plain": [
       "   survived  pclass_3  pclass_2  sex_male\n",
       "0         1       0.0       0.0       0.0\n",
       "1         1       0.0       0.0       1.0\n",
       "2         0       0.0       0.0       0.0\n",
       "3         0       0.0       0.0       1.0\n",
       "4         0       0.0       0.0       0.0"
      ]
     },
     "execution_count": 43,
     "metadata": {},
     "output_type": "execute_result"
    }
   ],
   "source": [
    "var_categoricas_SUR = ['survived', 'pclass_3', 'pclass_2', 'sex_male']\n",
    "titanic_vif = titanic_dummie[var_categoricas_SUR]\n",
    "titanic_vif.head(5)"
   ]
  },
  {
   "cell_type": "code",
   "execution_count": 44,
   "metadata": {
    "collapsed": false
   },
   "outputs": [
    {
     "name": "stdout",
     "output_type": "stream",
     "text": [
      "La matriz de confusión es \n",
      "[[317  57]\n",
      " [ 84 169]]\n",
      "Precisión: 0.775119617225\n",
      "Exactitud: 0.747787610619\n",
      "Exhaustividad: 0.667984189723\n",
      "F1: 0.705636743215\n",
      "AUC: 0.757788886306\n"
     ]
    },
    {
     "data": {
      "image/png": "[encoded data removed]",
      "text/plain": [
       "<matplotlib.figure.Figure at 0xbbc5518>"
      ]
     },
     "metadata": {},
     "output_type": "display_data"
    }
   ],
   "source": [
    "var_categoricas = ['pclass_3', 'pclass_2', 'sex_male']\n",
    "\n",
    "X_train, X_test, y_train, y_test = train_test_split(titanic_vif[var_categoricas], titanic_vif['survived'], test_size=0.4)\n",
    "\n",
    "classifier = LogisticRegression().fit(X_train, y_train)\n",
    "y_pred     = classifier.predict(X_train)\n",
    "\n",
    "metricas_modelos(y_train, y_pred)"
   ]
  },
  {
   "cell_type": "code",
   "execution_count": 45,
   "metadata": {
    "collapsed": false
   },
   "outputs": [
    {
     "name": "stdout",
     "output_type": "stream",
     "text": [
      "La matriz de confusión es \n",
      "[[205  39]\n",
      " [ 51 123]]\n",
      "Precisión: 0.784688995215\n",
      "Exactitud: 0.759259259259\n",
      "Exhaustividad: 0.706896551724\n",
      "F1: 0.732142857143\n",
      "AUC: 0.773530243075\n"
     ]
    },
    {
     "data": {
      "image/png": "[encoded data removed]",
      "text/plain": [
       "<matplotlib.figure.Figure at 0xe8625c0>"
      ]
     },
     "metadata": {},
     "output_type": "display_data"
    }
   ],
   "source": [
    "y_pred     = classifier.predict(X_test)\n",
    "\n",
    "metricas_modelos(y_test, y_pred)"
   ]
  },
  {
   "cell_type": "markdown",
   "metadata": {
    "collapsed": true
   },
   "source": [
    "El modelo de los datos de test es levemente menor que el de train"
   ]
  },
  {
   "cell_type": "markdown",
   "metadata": {
    "collapsed": true
   },
   "source": [
    "## Matriz de Confusion"
   ]
  },
  {
   "cell_type": "code",
   "execution_count": 46,
   "metadata": {
    "collapsed": false
   },
   "outputs": [
    {
     "data": {
      "image/png": "[encoded data removed]",
      "text/plain": [
       "<matplotlib.figure.Figure at 0xe752e48>"
      ]
     },
     "metadata": {},
     "output_type": "display_data"
    }
   ],
   "source": [
    "cm = confusion_matrix(y_test, y_pred)\n",
    "plt.matshow(cm)\n",
    "plt.title('Confusion matrix')\n",
    "plt.colorbar()\n",
    "plt.ylabel('Real')\n",
    "plt.xlabel('Predicted')\n",
    "plt.show()"
   ]
  },
  {
   "cell_type": "code",
   "execution_count": 47,
   "metadata": {
    "collapsed": false
   },
   "outputs": [
    {
     "data": {
      "text/plain": [
       "array([[-1.26328875, -0.55489161, -2.2463474 ]])"
      ]
     },
     "execution_count": 47,
     "metadata": {},
     "output_type": "execute_result"
    }
   ],
   "source": [
    "classifier.coef_"
   ]
  },
  {
   "cell_type": "code",
   "execution_count": 48,
   "metadata": {
    "collapsed": false
   },
   "outputs": [
    {
     "data": {
      "text/plain": [
       "Index([u'pclass_3', u'pclass_2', u'sex_male'], dtype='object')"
      ]
     },
     "execution_count": 48,
     "metadata": {},
     "output_type": "execute_result"
    }
   ],
   "source": [
    "titanic_vif[var_categoricas].columns"
   ]
  },
  {
   "cell_type": "markdown",
   "metadata": {},
   "source": [
    "**Se puede interpretar, con los coeficientes resultantes, que viajar en una mejor clase y el sexo, influyen en el supervivencia.**"
   ]
  },
  {
   "cell_type": "code",
   "execution_count": null,
   "metadata": {
    "collapsed": true
   },
   "outputs": [],
   "source": []
  }
 ],
 "metadata": {
  "anaconda-cloud": {},
  "kernelspec": {
   "display_name": "Python [default]",
   "language": "python",
   "name": "python2"
  },
  "language_info": {
   "codemirror_mode": {
    "name": "ipython",
    "version": 2
   },
   "file_extension": ".py",
   "mimetype": "text/x-python",
   "name": "python",
   "nbconvert_exporter": "python",
   "pygments_lexer": "ipython2",
   "version": "2.7.12"
  }
 },
 "nbformat": 4,
 "nbformat_minor": 0
}
