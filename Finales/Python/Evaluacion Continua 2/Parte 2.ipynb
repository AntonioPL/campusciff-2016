{
 "cells": [
  {
   "cell_type": "markdown",
   "metadata": {},
   "source": [
    "# Prueba de evaluación 2\n",
    "Parte 2\n"
   ]
  },
  {
   "cell_type": "markdown",
   "metadata": {
    "collapsed": true
   },
   "source": [
    "El Archivo"
   ]
  },
  {
   "cell_type": "code",
   "execution_count": 1,
   "metadata": {
    "collapsed": false
   },
   "outputs": [
    {
     "name": "stdout",
     "output_type": "stream",
     "text": [
      " Volume in drive C is Giovanni\n",
      " Volume Serial Number is 767E-2C45\n",
      "\n",
      " Directory of C:\\Users\\Giovanni\\Documents\\Master\\TrabajosFinales\\Phyton\\Evaluacion Continua 2\n",
      "\n",
      "\n",
      " Directory of C:\\Users\\Giovanni\\Documents\\Master\\TrabajosFinales\\Phyton\\Evaluacion Continua 2\n",
      "\n",
      "10/12/2016  20:21            23,235 UnplannedEvents.xml\n",
      "               1 File(s)         23,235 bytes\n",
      "               0 Dir(s)  136,171,954,176 bytes free\n"
     ]
    }
   ],
   "source": [
    "%ls -l *.xml"
   ]
  },
  {
   "cell_type": "code",
   "execution_count": 2,
   "metadata": {
    "collapsed": true
   },
   "outputs": [],
   "source": [
    "import pandas as pd\n",
    "from lxml import objectify\n",
    "import datetime\n",
    "import matplotlib.pyplot as plt\n",
    "import seaborn as sns\n",
    "import scipy, pylab"
   ]
  },
  {
   "cell_type": "code",
   "execution_count": 3,
   "metadata": {
    "collapsed": false
   },
   "outputs": [
    {
     "name": "stdout",
     "output_type": "stream",
     "text": [
      "{http://datex2.eu/schema/1_0/1_0}d2LogicalModel\n",
      "{'modelBaseVersion': '1.0'}\n",
      "2\n"
     ]
    }
   ],
   "source": [
    "parsed = objectify.parse('UnplannedEvents.xml')\n",
    "root = parsed.getroot()\n",
    "print root.tag\n",
    "print root.attrib\n",
    "print root.countchildren()"
   ]
  },
  {
   "cell_type": "code",
   "execution_count": 4,
   "metadata": {
    "collapsed": false
   },
   "outputs": [],
   "source": [
    "situation=[]\n",
    "situationRecord=[]\n",
    "probabilityOfOccurrence=[]\n",
    "impactOnTraffic =[]\n",
    "capacityRemaining=[]\n",
    "numberOfLanesRestricted=[]\n",
    "numberOfOperationalLanes =[]\n",
    "originalNumberOfLanes = []\n",
    "trafficRestrictionType = []\n",
    "delayTimeValue = []\n",
    "overallStartTime = []\n",
    "overallEndTime = []\n",
    "roadMaintenanceType = []\n",
    "\n",
    "for row in root.payloadPublication.situation:\n",
    "    situation.append(row.get('id'))\n",
    "    probabilityOfOccurrence.append(row.situationRecord.probabilityOfOccurrence.text)\n",
    "    impactOnTraffic.append(row.situationRecord.impact.impactOnTraffic.text)\n",
    "    capacityRemaining.append(float(row.situationRecord.impact.impactDetails.capacityRemaining.text))\n",
    "    numberOfLanesRestricted.append(int(row.situationRecord.impact.impactDetails.numberOfLanesRestricted.text))\n",
    "    numberOfOperationalLanes.append(int(row.situationRecord.impact.impactDetails.numberOfOperationalLanes.text))\n",
    "    originalNumberOfLanes.append(int(row.situationRecord.impact.impactDetails.originalNumberOfLanes.text))\n",
    "    trafficRestrictionType.append( row.situationRecord.impact.impactDetails.trafficRestrictionType.text)\n",
    "    delayTimeValue.append(float(row.situationRecord.impact.delays.delayTimeValue.text))\n",
    "    overallStartTime.append(row.situationRecord.validity.validityTimeSpecification.overallStartTime.text)\n",
    "    overallEndTime.append(row.situationRecord.validity.validityTimeSpecification.overallEndTime.text)"
   ]
  },
  {
   "cell_type": "markdown",
   "metadata": {},
   "source": [
    "Calculamos los Segundos con afectacion"
   ]
  },
  {
   "cell_type": "code",
   "execution_count": 5,
   "metadata": {
    "collapsed": false
   },
   "outputs": [],
   "source": [
    "veces = len(overallStartTime)\n",
    "downtime = []\n",
    "for i in range(0, veces):\n",
    "    dateini = overallStartTime[i]\n",
    "    datefin = overallEndTime[i]\n",
    "    dateI = datetime.datetime.strptime(dateini, \"%Y-%m-%dT%H:%M:%SZ\")\n",
    "    dateF = datetime.datetime.strptime(datefin, \"%Y-%m-%dT%H:%M:%SZ\")\n",
    "    timeseconds = int((dateF-dateI).total_seconds())\n",
    "    downtime.append(timeseconds)"
   ]
  },
  {
   "cell_type": "code",
   "execution_count": 6,
   "metadata": {
    "collapsed": false
   },
   "outputs": [
    {
     "data": {
      "text/html": [
       "<div>\n",
       "<table border=\"1\" class=\"dataframe\">\n",
       "  <thead>\n",
       "    <tr style=\"text-align: right;\">\n",
       "      <th></th>\n",
       "      <th>situation</th>\n",
       "      <th>probabilityOfOccurrence</th>\n",
       "      <th>impactOnTraffic</th>\n",
       "      <th>capacityRemaining</th>\n",
       "      <th>numberOfLanesRestricted</th>\n",
       "      <th>numberOfOperationalLanes</th>\n",
       "      <th>originalNumberOfLanes</th>\n",
       "      <th>trafficRestrictionType</th>\n",
       "      <th>delayTimeValue</th>\n",
       "      <th>overallStartTime</th>\n",
       "      <th>overallEndTime</th>\n",
       "      <th>timeseconds</th>\n",
       "    </tr>\n",
       "  </thead>\n",
       "  <tbody>\n",
       "    <tr>\n",
       "      <th>0</th>\n",
       "      <td>GUID732336731</td>\n",
       "      <td>certain</td>\n",
       "      <td>heavy</td>\n",
       "      <td>75.0</td>\n",
       "      <td>1</td>\n",
       "      <td>3</td>\n",
       "      <td>4</td>\n",
       "      <td>carriagewayPartiallyObstructed</td>\n",
       "      <td>600.0</td>\n",
       "      <td>2015-12-03T04:11:04Z</td>\n",
       "      <td>2015-12-07T23:00:00Z</td>\n",
       "      <td>413336</td>\n",
       "    </tr>\n",
       "    <tr>\n",
       "      <th>1</th>\n",
       "      <td>GUID732889125</td>\n",
       "      <td>certain</td>\n",
       "      <td>impossible</td>\n",
       "      <td>0.0</td>\n",
       "      <td>2</td>\n",
       "      <td>0</td>\n",
       "      <td>2</td>\n",
       "      <td>carriagewayBlocked</td>\n",
       "      <td>900.0</td>\n",
       "      <td>2015-12-06T17:35:05Z</td>\n",
       "      <td>2015-12-07T23:00:00Z</td>\n",
       "      <td>105895</td>\n",
       "    </tr>\n",
       "    <tr>\n",
       "      <th>2</th>\n",
       "      <td>GUID732957845</td>\n",
       "      <td>certain</td>\n",
       "      <td>impossible</td>\n",
       "      <td>0.0</td>\n",
       "      <td>1</td>\n",
       "      <td>0</td>\n",
       "      <td>1</td>\n",
       "      <td>carriagewayBlocked</td>\n",
       "      <td>600.0</td>\n",
       "      <td>2015-12-07T05:12:59Z</td>\n",
       "      <td>2015-12-07T23:00:00Z</td>\n",
       "      <td>64021</td>\n",
       "    </tr>\n",
       "    <tr>\n",
       "      <th>3</th>\n",
       "      <td>GUID733038589</td>\n",
       "      <td>certain</td>\n",
       "      <td>impossible</td>\n",
       "      <td>0.0</td>\n",
       "      <td>1</td>\n",
       "      <td>0</td>\n",
       "      <td>1</td>\n",
       "      <td>carriagewayBlocked</td>\n",
       "      <td>0.0</td>\n",
       "      <td>2015-12-07T18:08:48Z</td>\n",
       "      <td>2015-12-07T21:45:00Z</td>\n",
       "      <td>12972</td>\n",
       "    </tr>\n",
       "    <tr>\n",
       "      <th>4</th>\n",
       "      <td>GUID733038591</td>\n",
       "      <td>certain</td>\n",
       "      <td>impossible</td>\n",
       "      <td>0.0</td>\n",
       "      <td>1</td>\n",
       "      <td>0</td>\n",
       "      <td>1</td>\n",
       "      <td>carriagewayBlocked</td>\n",
       "      <td>0.0</td>\n",
       "      <td>2015-12-07T18:08:49Z</td>\n",
       "      <td>2015-12-07T21:45:00Z</td>\n",
       "      <td>12971</td>\n",
       "    </tr>\n",
       "    <tr>\n",
       "      <th>5</th>\n",
       "      <td>GUID733043648</td>\n",
       "      <td>certain</td>\n",
       "      <td>freeFlow</td>\n",
       "      <td>33.0</td>\n",
       "      <td>2</td>\n",
       "      <td>1</td>\n",
       "      <td>3</td>\n",
       "      <td>carriagewayPartiallyObstructed</td>\n",
       "      <td>0.0</td>\n",
       "      <td>2015-12-07T19:04:45Z</td>\n",
       "      <td>2015-12-07T20:15:00Z</td>\n",
       "      <td>4215</td>\n",
       "    </tr>\n",
       "  </tbody>\n",
       "</table>\n",
       "</div>"
      ],
      "text/plain": [
       "       situation probabilityOfOccurrence impactOnTraffic  capacityRemaining  \\\n",
       "0  GUID732336731                 certain           heavy               75.0   \n",
       "1  GUID732889125                 certain      impossible                0.0   \n",
       "2  GUID732957845                 certain      impossible                0.0   \n",
       "3  GUID733038589                 certain      impossible                0.0   \n",
       "4  GUID733038591                 certain      impossible                0.0   \n",
       "5  GUID733043648                 certain        freeFlow               33.0   \n",
       "\n",
       "   numberOfLanesRestricted  numberOfOperationalLanes  originalNumberOfLanes  \\\n",
       "0                        1                         3                      4   \n",
       "1                        2                         0                      2   \n",
       "2                        1                         0                      1   \n",
       "3                        1                         0                      1   \n",
       "4                        1                         0                      1   \n",
       "5                        2                         1                      3   \n",
       "\n",
       "           trafficRestrictionType  delayTimeValue      overallStartTime  \\\n",
       "0  carriagewayPartiallyObstructed           600.0  2015-12-03T04:11:04Z   \n",
       "1              carriagewayBlocked           900.0  2015-12-06T17:35:05Z   \n",
       "2              carriagewayBlocked           600.0  2015-12-07T05:12:59Z   \n",
       "3              carriagewayBlocked             0.0  2015-12-07T18:08:48Z   \n",
       "4              carriagewayBlocked             0.0  2015-12-07T18:08:49Z   \n",
       "5  carriagewayPartiallyObstructed             0.0  2015-12-07T19:04:45Z   \n",
       "\n",
       "         overallEndTime  timeseconds  \n",
       "0  2015-12-07T23:00:00Z       413336  \n",
       "1  2015-12-07T23:00:00Z       105895  \n",
       "2  2015-12-07T23:00:00Z        64021  \n",
       "3  2015-12-07T21:45:00Z        12972  \n",
       "4  2015-12-07T21:45:00Z        12971  \n",
       "5  2015-12-07T20:15:00Z         4215  "
      ]
     },
     "execution_count": 6,
     "metadata": {},
     "output_type": "execute_result"
    }
   ],
   "source": [
    "data = pd.DataFrame()\n",
    "data['situation'] = situation\n",
    "data['probabilityOfOccurrence'] = probabilityOfOccurrence\n",
    "data['impactOnTraffic'] = impactOnTraffic\n",
    "data['capacityRemaining'] = capacityRemaining\n",
    "data['numberOfLanesRestricted'] = numberOfLanesRestricted\n",
    "data['numberOfOperationalLanes'] = numberOfOperationalLanes\n",
    "data['originalNumberOfLanes'] = originalNumberOfLanes\n",
    "data['trafficRestrictionType'] = trafficRestrictionType\n",
    "data['delayTimeValue'] = delayTimeValue\n",
    "data['overallStartTime'] = overallStartTime\n",
    "data['overallEndTime'] = overallEndTime\n",
    "data['timeseconds'] = downtime\n",
    "\n",
    "data"
   ]
  },
  {
   "cell_type": "markdown",
   "metadata": {},
   "source": [
    "Se puede  agrupar por columnas, saber el resultado y luego graficar en base a la agrupacion"
   ]
  },
  {
   "cell_type": "code",
   "execution_count": 7,
   "metadata": {
    "collapsed": false
   },
   "outputs": [
    {
     "name": "stdout",
     "output_type": "stream",
     "text": [
      "<class 'pandas.core.series.Series'>\n"
     ]
    },
    {
     "data": {
      "text/plain": [
       "impactOnTraffic\n",
       "freeFlow      1\n",
       "heavy         3\n",
       "impossible    0\n",
       "Name: numberOfOperationalLanes, dtype: int64"
      ]
     },
     "execution_count": 7,
     "metadata": {},
     "output_type": "execute_result"
    }
   ],
   "source": [
    "%matplotlib inline  \n",
    "avline = data.groupby(['impactOnTraffic'] )\n",
    "per_avline = avline[\"numberOfOperationalLanes\"].sum()\n",
    "print type(per_avline)\n",
    "per_avline.head(5)"
   ]
  },
  {
   "cell_type": "code",
   "execution_count": 8,
   "metadata": {
    "collapsed": false
   },
   "outputs": [
    {
     "data": {
      "text/plain": [
       "<matplotlib.axes._subplots.AxesSubplot at 0xa254d68>"
      ]
     },
     "execution_count": 8,
     "metadata": {},
     "output_type": "execute_result"
    },
    {
     "data": {
      "image/png": "[encoded data removed]",
      "text/plain": [
       "<matplotlib.figure.Figure at 0xa1ede10>"
      ]
     },
     "metadata": {},
     "output_type": "display_data"
    }
   ],
   "source": [
    "per_avline.plot()"
   ]
  },
  {
   "cell_type": "markdown",
   "metadata": {},
   "source": [
    "Creacion de nuevos datos, para poder ver graficamente,la linea de Carriles Totales, Disponible y BLoqueados"
   ]
  },
  {
   "cell_type": "code",
   "execution_count": 9,
   "metadata": {
    "collapsed": false
   },
   "outputs": [],
   "source": [
    "df = data.groupby('impactOnTraffic').agg({'originalNumberOfLanes': lambda x: x.sum(), \n",
    "                                          'numberOfOperationalLanes': lambda x: x.sum(),\n",
    "                                          'numberOfLanesRestricted': lambda x: x.sum()})\n",
    "                                          "
   ]
  },
  {
   "cell_type": "code",
   "execution_count": 10,
   "metadata": {
    "collapsed": false
   },
   "outputs": [
    {
     "data": {
      "text/html": [
       "<div>\n",
       "<table border=\"1\" class=\"dataframe\">\n",
       "  <thead>\n",
       "    <tr style=\"text-align: right;\">\n",
       "      <th></th>\n",
       "      <th>numberOfOperationalLanes</th>\n",
       "      <th>originalNumberOfLanes</th>\n",
       "      <th>numberOfLanesRestricted</th>\n",
       "    </tr>\n",
       "    <tr>\n",
       "      <th>impactOnTraffic</th>\n",
       "      <th></th>\n",
       "      <th></th>\n",
       "      <th></th>\n",
       "    </tr>\n",
       "  </thead>\n",
       "  <tbody>\n",
       "    <tr>\n",
       "      <th>freeFlow</th>\n",
       "      <td>1</td>\n",
       "      <td>3</td>\n",
       "      <td>2</td>\n",
       "    </tr>\n",
       "    <tr>\n",
       "      <th>heavy</th>\n",
       "      <td>3</td>\n",
       "      <td>4</td>\n",
       "      <td>1</td>\n",
       "    </tr>\n",
       "    <tr>\n",
       "      <th>impossible</th>\n",
       "      <td>0</td>\n",
       "      <td>5</td>\n",
       "      <td>5</td>\n",
       "    </tr>\n",
       "  </tbody>\n",
       "</table>\n",
       "</div>"
      ],
      "text/plain": [
       "                 numberOfOperationalLanes  originalNumberOfLanes  \\\n",
       "impactOnTraffic                                                    \n",
       "freeFlow                                1                      3   \n",
       "heavy                                   3                      4   \n",
       "impossible                              0                      5   \n",
       "\n",
       "                 numberOfLanesRestricted  \n",
       "impactOnTraffic                           \n",
       "freeFlow                               2  \n",
       "heavy                                  1  \n",
       "impossible                             5  "
      ]
     },
     "execution_count": 10,
     "metadata": {},
     "output_type": "execute_result"
    }
   ],
   "source": [
    "df"
   ]
  },
  {
   "cell_type": "code",
   "execution_count": 11,
   "metadata": {
    "collapsed": false
   },
   "outputs": [
    {
     "data": {
      "text/plain": [
       "<matplotlib.axes._subplots.AxesSubplot at 0xa3ad588>"
      ]
     },
     "execution_count": 11,
     "metadata": {},
     "output_type": "execute_result"
    },
    {
     "data": {
      "image/png": "[encoded data removed]",
      "text/plain": [
       "<matplotlib.figure.Figure at 0xa41cb70>"
      ]
     },
     "metadata": {},
     "output_type": "display_data"
    }
   ],
   "source": [
    "df.plot(figsize=(10,8))"
   ]
  },
  {
   "cell_type": "markdown",
   "metadata": {},
   "source": [
    "Obtenendo datos como la media, quantiles, etc del dataframe"
   ]
  },
  {
   "cell_type": "code",
   "execution_count": 12,
   "metadata": {
    "collapsed": false
   },
   "outputs": [
    {
     "data": {
      "text/html": [
       "<div>\n",
       "<table border=\"1\" class=\"dataframe\">\n",
       "  <thead>\n",
       "    <tr style=\"text-align: right;\">\n",
       "      <th></th>\n",
       "      <th>count</th>\n",
       "      <th>mean</th>\n",
       "      <th>std</th>\n",
       "      <th>min</th>\n",
       "      <th>25%</th>\n",
       "      <th>50%</th>\n",
       "      <th>75%</th>\n",
       "      <th>max</th>\n",
       "    </tr>\n",
       "  </thead>\n",
       "  <tbody>\n",
       "    <tr>\n",
       "      <th>capacityRemaining</th>\n",
       "      <td>6.0</td>\n",
       "      <td>18.000000</td>\n",
       "      <td>30.886890</td>\n",
       "      <td>0.0</td>\n",
       "      <td>0.00</td>\n",
       "      <td>0.0</td>\n",
       "      <td>24.75</td>\n",
       "      <td>75.0</td>\n",
       "    </tr>\n",
       "    <tr>\n",
       "      <th>numberOfLanesRestricted</th>\n",
       "      <td>6.0</td>\n",
       "      <td>1.333333</td>\n",
       "      <td>0.516398</td>\n",
       "      <td>1.0</td>\n",
       "      <td>1.00</td>\n",
       "      <td>1.0</td>\n",
       "      <td>1.75</td>\n",
       "      <td>2.0</td>\n",
       "    </tr>\n",
       "    <tr>\n",
       "      <th>numberOfOperationalLanes</th>\n",
       "      <td>6.0</td>\n",
       "      <td>0.666667</td>\n",
       "      <td>1.211060</td>\n",
       "      <td>0.0</td>\n",
       "      <td>0.00</td>\n",
       "      <td>0.0</td>\n",
       "      <td>0.75</td>\n",
       "      <td>3.0</td>\n",
       "    </tr>\n",
       "    <tr>\n",
       "      <th>originalNumberOfLanes</th>\n",
       "      <td>6.0</td>\n",
       "      <td>2.000000</td>\n",
       "      <td>1.264911</td>\n",
       "      <td>1.0</td>\n",
       "      <td>1.00</td>\n",
       "      <td>1.5</td>\n",
       "      <td>2.75</td>\n",
       "      <td>4.0</td>\n",
       "    </tr>\n",
       "    <tr>\n",
       "      <th>delayTimeValue</th>\n",
       "      <td>6.0</td>\n",
       "      <td>350.000000</td>\n",
       "      <td>398.748041</td>\n",
       "      <td>0.0</td>\n",
       "      <td>0.00</td>\n",
       "      <td>300.0</td>\n",
       "      <td>600.00</td>\n",
       "      <td>900.0</td>\n",
       "    </tr>\n",
       "    <tr>\n",
       "      <th>timeseconds</th>\n",
       "      <td>6.0</td>\n",
       "      <td>102235.000000</td>\n",
       "      <td>157353.997637</td>\n",
       "      <td>4215.0</td>\n",
       "      <td>12971.25</td>\n",
       "      <td>38496.5</td>\n",
       "      <td>95426.50</td>\n",
       "      <td>413336.0</td>\n",
       "    </tr>\n",
       "  </tbody>\n",
       "</table>\n",
       "</div>"
      ],
      "text/plain": [
       "                          count           mean            std     min  \\\n",
       "capacityRemaining           6.0      18.000000      30.886890     0.0   \n",
       "numberOfLanesRestricted     6.0       1.333333       0.516398     1.0   \n",
       "numberOfOperationalLanes    6.0       0.666667       1.211060     0.0   \n",
       "originalNumberOfLanes       6.0       2.000000       1.264911     1.0   \n",
       "delayTimeValue              6.0     350.000000     398.748041     0.0   \n",
       "timeseconds                 6.0  102235.000000  157353.997637  4215.0   \n",
       "\n",
       "                               25%      50%       75%       max  \n",
       "capacityRemaining             0.00      0.0     24.75      75.0  \n",
       "numberOfLanesRestricted       1.00      1.0      1.75       2.0  \n",
       "numberOfOperationalLanes      0.00      0.0      0.75       3.0  \n",
       "originalNumberOfLanes         1.00      1.5      2.75       4.0  \n",
       "delayTimeValue                0.00    300.0    600.00     900.0  \n",
       "timeseconds               12971.25  38496.5  95426.50  413336.0  "
      ]
     },
     "execution_count": 12,
     "metadata": {},
     "output_type": "execute_result"
    }
   ],
   "source": [
    "data.describe().transpose()"
   ]
  },
  {
   "cell_type": "code",
   "execution_count": null,
   "metadata": {
    "collapsed": true
   },
   "outputs": [],
   "source": []
  }
 ],
 "metadata": {
  "celltoolbar": "Raw Cell Format",
  "kernelspec": {
   "display_name": "Python 2",
   "language": "python",
   "name": "python2"
  },
  "language_info": {
   "codemirror_mode": {
    "name": "ipython",
    "version": 2
   },
   "file_extension": ".py",
   "mimetype": "text/x-python",
   "name": "python",
   "nbconvert_exporter": "python",
   "pygments_lexer": "ipython2",
   "version": "2.7.12"
  }
 },
 "nbformat": 4,
 "nbformat_minor": 0
}
